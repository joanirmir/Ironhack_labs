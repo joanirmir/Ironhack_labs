{
 "cells": [
  {
   "cell_type": "markdown",
   "id": "10ab13e7",
   "metadata": {},
   "source": [
    "### My holidays preference\n"
   ]
  },
  {
   "cell_type": "markdown",
   "id": "08c6599e",
   "metadata": {},
   "source": [
    "*Table of content*\n",
    "\n",
    "[1. Who?](#Who?)\n",
    "\n",
    "[2. Where?](#Where?)\n",
    "\n",
    "[3. What?](#What?)\n"
   ]
  },
  {
   "cell_type": "markdown",
   "id": "e26d2466",
   "metadata": {},
   "source": [
    "*The purpose of this notebook is to present my preference for my next holidays.*"
   ]
  },
  {
   "cell_type": "markdown",
   "id": "ae2c2184",
   "metadata": {},
   "source": [
    "# Who?"
   ]
  },
  {
   "cell_type": "code",
   "execution_count": null,
   "id": "43aba802",
   "metadata": {},
   "outputs": [],
   "source": [
    "input('That is the name of the person: ')"
   ]
  },
  {
   "cell_type": "markdown",
   "id": "b3d00c19",
   "metadata": {},
   "source": [
    "![That's me](/Desktop/IMG_20201017_155813.jpg)"
   ]
  },
  {
   "cell_type": "markdown",
   "id": "c6489b9b",
   "metadata": {},
   "source": [
    "# Where?"
   ]
  },
  {
   "cell_type": "code",
   "execution_count": null,
   "id": "a3864a7e",
   "metadata": {},
   "outputs": [],
   "source": [
    "input('Where I want to go for my next holidays: ')"
   ]
  },
  {
   "cell_type": "markdown",
   "id": "6d716af0",
   "metadata": {},
   "source": [
    "**Here you can see a picture of the landscape in Argentina:**"
   ]
  },
  {
   "cell_type": "markdown",
   "id": "a1ade235",
   "metadata": {},
   "source": [
    "![The mountains](https://img.search.brave.com/UfnHUhflYFTtWdRPewm0IcY8eMkLReR2VIRVDSzs960/fit/632/225/ce/1/aHR0cHM6Ly90c2Uz/Lm1tLmJpbmcubmV0/L3RoP2lkPU9JUC5j/amRaNGFPdmRoWHhy/VmFORWFIY1NRSGFG/aiZwaWQ9QXBp)"
   ]
  },
  {
   "cell_type": "markdown",
   "id": "ee0e5ac0",
   "metadata": {},
   "source": [
    "[10 Best Places to visit in Argentina](https://www.youtube.com/watch?v=KmNNS-EsgT0)"
   ]
  },
  {
   "cell_type": "markdown",
   "id": "be1ce8a0",
   "metadata": {},
   "source": [
    "# What?"
   ]
  },
  {
   "cell_type": "markdown",
   "id": "7e5d828d",
   "metadata": {},
   "source": [
    "### Top 3 things I want to do:\n",
    "\n",
    "1. See Patagonia\n",
    "2. Visit Misiones 🏕️\n",
    "3. Visit Santa Fe"
   ]
  },
  {
   "cell_type": "code",
   "execution_count": null,
   "id": "2fe139bc",
   "metadata": {},
   "outputs": [],
   "source": []
  }
 ],
 "metadata": {
  "kernelspec": {
   "display_name": "Python 3",
   "language": "python",
   "name": "python3"
  },
  "language_info": {
   "codemirror_mode": {
    "name": "ipython",
    "version": 3
   },
   "file_extension": ".py",
   "mimetype": "text/x-python",
   "name": "python",
   "nbconvert_exporter": "python",
   "pygments_lexer": "ipython3",
   "version": "3.8.8"
  }
 },
 "nbformat": 4,
 "nbformat_minor": 5
}
