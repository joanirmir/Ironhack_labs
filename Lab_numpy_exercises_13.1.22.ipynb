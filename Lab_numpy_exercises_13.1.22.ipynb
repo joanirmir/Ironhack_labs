{
 "cells": [
  {
   "cell_type": "markdown",
   "id": "29bd6922",
   "metadata": {},
   "source": [
    "I started with the wrong exercise: 100 Numpy Exercises"
   ]
  },
  {
   "cell_type": "code",
   "execution_count": null,
   "id": "926814ff",
   "metadata": {},
   "outputs": [],
   "source": [
    "#1. Import the numpy package\n",
    "import numpy as np"
   ]
  },
  {
   "cell_type": "code",
   "execution_count": 15,
   "id": "cf19f3b0",
   "metadata": {},
   "outputs": [
    {
     "data": {
      "text/plain": [
       "'1.20.1'"
      ]
     },
     "execution_count": 15,
     "metadata": {},
     "output_type": "execute_result"
    }
   ],
   "source": [
    "#2. To check which version\n",
    "np.version.version "
   ]
  },
  {
   "cell_type": "code",
   "execution_count": 16,
   "id": "c7075130",
   "metadata": {},
   "outputs": [
    {
     "name": "stdout",
     "output_type": "stream",
     "text": [
      "blas_mkl_info:\n",
      "    libraries = ['mkl_rt', 'pthread']\n",
      "    library_dirs = ['/Applications/anaconda3/lib']\n",
      "    define_macros = [('SCIPY_MKL_H', None), ('HAVE_CBLAS', None)]\n",
      "    include_dirs = ['/Applications/anaconda3/include']\n",
      "blas_opt_info:\n",
      "    libraries = ['mkl_rt', 'pthread']\n",
      "    library_dirs = ['/Applications/anaconda3/lib']\n",
      "    define_macros = [('SCIPY_MKL_H', None), ('HAVE_CBLAS', None)]\n",
      "    include_dirs = ['/Applications/anaconda3/include']\n",
      "lapack_mkl_info:\n",
      "    libraries = ['mkl_rt', 'pthread']\n",
      "    library_dirs = ['/Applications/anaconda3/lib']\n",
      "    define_macros = [('SCIPY_MKL_H', None), ('HAVE_CBLAS', None)]\n",
      "    include_dirs = ['/Applications/anaconda3/include']\n",
      "lapack_opt_info:\n",
      "    libraries = ['mkl_rt', 'pthread']\n",
      "    library_dirs = ['/Applications/anaconda3/lib']\n",
      "    define_macros = [('SCIPY_MKL_H', None), ('HAVE_CBLAS', None)]\n",
      "    include_dirs = ['/Applications/anaconda3/include']\n"
     ]
    }
   ],
   "source": [
    "#2. To show the configuration \n",
    "np.show_config()"
   ]
  },
  {
   "cell_type": "code",
   "execution_count": 19,
   "id": "4279394c",
   "metadata": {},
   "outputs": [],
   "source": [
    "# 3. Create a null vector of size 10\n",
    "x = np.zeros(10)"
   ]
  },
  {
   "cell_type": "code",
   "execution_count": 20,
   "id": "eb7fe380",
   "metadata": {},
   "outputs": [
    {
     "name": "stdout",
     "output_type": "stream",
     "text": [
      "80 bytes\n"
     ]
    }
   ],
   "source": [
    "# 4. To find the memory size of any array\n",
    "print(\"%d bytes\" % (x.size * x.itemsize))"
   ]
  },
  {
   "cell_type": "code",
   "execution_count": 17,
   "id": "4db17459",
   "metadata": {},
   "outputs": [
    {
     "ename": "Exception",
     "evalue": "File `'python -c \"import numpy; numpy.info(numpy.add)\".py'` not found.",
     "output_type": "error",
     "traceback": [
      "\u001b[0;31m---------------------------------------------------------------------------\u001b[0m",
      "\u001b[0;31mOSError\u001b[0m                                   Traceback (most recent call last)",
      "\u001b[0;32m/Applications/anaconda3/lib/python3.8/site-packages/IPython/core/magics/execution.py\u001b[0m in \u001b[0;36mrun\u001b[0;34m(self, parameter_s, runner, file_finder)\u001b[0m\n\u001b[1;32m    702\u001b[0m             \u001b[0mfpath\u001b[0m \u001b[0;34m=\u001b[0m \u001b[0marg_lst\u001b[0m\u001b[0;34m[\u001b[0m\u001b[0;36m0\u001b[0m\u001b[0;34m]\u001b[0m\u001b[0;34m\u001b[0m\u001b[0;34m\u001b[0m\u001b[0m\n\u001b[0;32m--> 703\u001b[0;31m             \u001b[0mfilename\u001b[0m \u001b[0;34m=\u001b[0m \u001b[0mfile_finder\u001b[0m\u001b[0;34m(\u001b[0m\u001b[0mfpath\u001b[0m\u001b[0;34m)\u001b[0m\u001b[0;34m\u001b[0m\u001b[0;34m\u001b[0m\u001b[0m\n\u001b[0m\u001b[1;32m    704\u001b[0m         \u001b[0;32mexcept\u001b[0m \u001b[0mIndexError\u001b[0m\u001b[0;34m:\u001b[0m\u001b[0;34m\u001b[0m\u001b[0;34m\u001b[0m\u001b[0m\n",
      "\u001b[0;32m/Applications/anaconda3/lib/python3.8/site-packages/IPython/utils/path.py\u001b[0m in \u001b[0;36mget_py_filename\u001b[0;34m(name, force_win32)\u001b[0m\n\u001b[1;32m    108\u001b[0m     \u001b[0;32melse\u001b[0m\u001b[0;34m:\u001b[0m\u001b[0;34m\u001b[0m\u001b[0;34m\u001b[0m\u001b[0m\n\u001b[0;32m--> 109\u001b[0;31m         \u001b[0;32mraise\u001b[0m \u001b[0mIOError\u001b[0m\u001b[0;34m(\u001b[0m\u001b[0;34m'File `%r` not found.'\u001b[0m \u001b[0;34m%\u001b[0m \u001b[0mname\u001b[0m\u001b[0;34m)\u001b[0m\u001b[0;34m\u001b[0m\u001b[0;34m\u001b[0m\u001b[0m\n\u001b[0m\u001b[1;32m    110\u001b[0m \u001b[0;34m\u001b[0m\u001b[0m\n",
      "\u001b[0;31mOSError\u001b[0m: File `'python -c \"import numpy; numpy.info(numpy.add)\".py'` not found.",
      "\nDuring handling of the above exception, another exception occurred:\n",
      "\u001b[0;31mException\u001b[0m                                 Traceback (most recent call last)",
      "\u001b[0;32m<ipython-input-17-3eb4121615f2>\u001b[0m in \u001b[0;36m<module>\u001b[0;34m\u001b[0m\n\u001b[1;32m      1\u001b[0m \u001b[0;31m#5.documentatoin of the numpy add function from the command line\u001b[0m\u001b[0;34m\u001b[0m\u001b[0;34m\u001b[0m\u001b[0;34m\u001b[0m\u001b[0m\n\u001b[0;32m----> 2\u001b[0;31m \u001b[0mget_ipython\u001b[0m\u001b[0;34m(\u001b[0m\u001b[0;34m)\u001b[0m\u001b[0;34m.\u001b[0m\u001b[0mrun_line_magic\u001b[0m\u001b[0;34m(\u001b[0m\u001b[0;34m'run'\u001b[0m\u001b[0;34m,\u001b[0m \u001b[0;34m'\\'python -c \"import numpy; numpy.info(numpy.add)\"\\''\u001b[0m\u001b[0;34m)\u001b[0m\u001b[0;34m\u001b[0m\u001b[0;34m\u001b[0m\u001b[0m\n\u001b[0m",
      "\u001b[0;32m/Applications/anaconda3/lib/python3.8/site-packages/IPython/core/interactiveshell.py\u001b[0m in \u001b[0;36mrun_line_magic\u001b[0;34m(self, magic_name, line, _stack_depth)\u001b[0m\n\u001b[1;32m   2342\u001b[0m                 \u001b[0mkwargs\u001b[0m\u001b[0;34m[\u001b[0m\u001b[0;34m'local_ns'\u001b[0m\u001b[0;34m]\u001b[0m \u001b[0;34m=\u001b[0m \u001b[0mself\u001b[0m\u001b[0;34m.\u001b[0m\u001b[0mget_local_scope\u001b[0m\u001b[0;34m(\u001b[0m\u001b[0mstack_depth\u001b[0m\u001b[0;34m)\u001b[0m\u001b[0;34m\u001b[0m\u001b[0;34m\u001b[0m\u001b[0m\n\u001b[1;32m   2343\u001b[0m             \u001b[0;32mwith\u001b[0m \u001b[0mself\u001b[0m\u001b[0;34m.\u001b[0m\u001b[0mbuiltin_trap\u001b[0m\u001b[0;34m:\u001b[0m\u001b[0;34m\u001b[0m\u001b[0;34m\u001b[0m\u001b[0m\n\u001b[0;32m-> 2344\u001b[0;31m                 \u001b[0mresult\u001b[0m \u001b[0;34m=\u001b[0m \u001b[0mfn\u001b[0m\u001b[0;34m(\u001b[0m\u001b[0;34m*\u001b[0m\u001b[0margs\u001b[0m\u001b[0;34m,\u001b[0m \u001b[0;34m**\u001b[0m\u001b[0mkwargs\u001b[0m\u001b[0;34m)\u001b[0m\u001b[0;34m\u001b[0m\u001b[0;34m\u001b[0m\u001b[0m\n\u001b[0m\u001b[1;32m   2345\u001b[0m             \u001b[0;32mreturn\u001b[0m \u001b[0mresult\u001b[0m\u001b[0;34m\u001b[0m\u001b[0;34m\u001b[0m\u001b[0m\n\u001b[1;32m   2346\u001b[0m \u001b[0;34m\u001b[0m\u001b[0m\n",
      "\u001b[0;32m/Applications/anaconda3/lib/python3.8/site-packages/decorator.py\u001b[0m in \u001b[0;36mfun\u001b[0;34m(*args, **kw)\u001b[0m\n\u001b[1;32m    229\u001b[0m             \u001b[0;32mif\u001b[0m \u001b[0;32mnot\u001b[0m \u001b[0mkwsyntax\u001b[0m\u001b[0;34m:\u001b[0m\u001b[0;34m\u001b[0m\u001b[0;34m\u001b[0m\u001b[0m\n\u001b[1;32m    230\u001b[0m                 \u001b[0margs\u001b[0m\u001b[0;34m,\u001b[0m \u001b[0mkw\u001b[0m \u001b[0;34m=\u001b[0m \u001b[0mfix\u001b[0m\u001b[0;34m(\u001b[0m\u001b[0margs\u001b[0m\u001b[0;34m,\u001b[0m \u001b[0mkw\u001b[0m\u001b[0;34m,\u001b[0m \u001b[0msig\u001b[0m\u001b[0;34m)\u001b[0m\u001b[0;34m\u001b[0m\u001b[0;34m\u001b[0m\u001b[0m\n\u001b[0;32m--> 231\u001b[0;31m             \u001b[0;32mreturn\u001b[0m \u001b[0mcaller\u001b[0m\u001b[0;34m(\u001b[0m\u001b[0mfunc\u001b[0m\u001b[0;34m,\u001b[0m \u001b[0;34m*\u001b[0m\u001b[0;34m(\u001b[0m\u001b[0mextras\u001b[0m \u001b[0;34m+\u001b[0m \u001b[0margs\u001b[0m\u001b[0;34m)\u001b[0m\u001b[0;34m,\u001b[0m \u001b[0;34m**\u001b[0m\u001b[0mkw\u001b[0m\u001b[0;34m)\u001b[0m\u001b[0;34m\u001b[0m\u001b[0;34m\u001b[0m\u001b[0m\n\u001b[0m\u001b[1;32m    232\u001b[0m     \u001b[0mfun\u001b[0m\u001b[0;34m.\u001b[0m\u001b[0m__name__\u001b[0m \u001b[0;34m=\u001b[0m \u001b[0mfunc\u001b[0m\u001b[0;34m.\u001b[0m\u001b[0m__name__\u001b[0m\u001b[0;34m\u001b[0m\u001b[0;34m\u001b[0m\u001b[0m\n\u001b[1;32m    233\u001b[0m     \u001b[0mfun\u001b[0m\u001b[0;34m.\u001b[0m\u001b[0m__doc__\u001b[0m \u001b[0;34m=\u001b[0m \u001b[0mfunc\u001b[0m\u001b[0;34m.\u001b[0m\u001b[0m__doc__\u001b[0m\u001b[0;34m\u001b[0m\u001b[0;34m\u001b[0m\u001b[0m\n",
      "\u001b[0;32m/Applications/anaconda3/lib/python3.8/site-packages/IPython/core/magic.py\u001b[0m in \u001b[0;36m<lambda>\u001b[0;34m(f, *a, **k)\u001b[0m\n\u001b[1;32m    185\u001b[0m     \u001b[0;31m# but it's overkill for just that one bit of state.\u001b[0m\u001b[0;34m\u001b[0m\u001b[0;34m\u001b[0m\u001b[0;34m\u001b[0m\u001b[0m\n\u001b[1;32m    186\u001b[0m     \u001b[0;32mdef\u001b[0m \u001b[0mmagic_deco\u001b[0m\u001b[0;34m(\u001b[0m\u001b[0marg\u001b[0m\u001b[0;34m)\u001b[0m\u001b[0;34m:\u001b[0m\u001b[0;34m\u001b[0m\u001b[0;34m\u001b[0m\u001b[0m\n\u001b[0;32m--> 187\u001b[0;31m         \u001b[0mcall\u001b[0m \u001b[0;34m=\u001b[0m \u001b[0;32mlambda\u001b[0m \u001b[0mf\u001b[0m\u001b[0;34m,\u001b[0m \u001b[0;34m*\u001b[0m\u001b[0ma\u001b[0m\u001b[0;34m,\u001b[0m \u001b[0;34m**\u001b[0m\u001b[0mk\u001b[0m\u001b[0;34m:\u001b[0m \u001b[0mf\u001b[0m\u001b[0;34m(\u001b[0m\u001b[0;34m*\u001b[0m\u001b[0ma\u001b[0m\u001b[0;34m,\u001b[0m \u001b[0;34m**\u001b[0m\u001b[0mk\u001b[0m\u001b[0;34m)\u001b[0m\u001b[0;34m\u001b[0m\u001b[0;34m\u001b[0m\u001b[0m\n\u001b[0m\u001b[1;32m    188\u001b[0m \u001b[0;34m\u001b[0m\u001b[0m\n\u001b[1;32m    189\u001b[0m         \u001b[0;32mif\u001b[0m \u001b[0mcallable\u001b[0m\u001b[0;34m(\u001b[0m\u001b[0marg\u001b[0m\u001b[0;34m)\u001b[0m\u001b[0;34m:\u001b[0m\u001b[0;34m\u001b[0m\u001b[0;34m\u001b[0m\u001b[0m\n",
      "\u001b[0;32m/Applications/anaconda3/lib/python3.8/site-packages/IPython/core/magics/execution.py\u001b[0m in \u001b[0;36mrun\u001b[0;34m(self, parameter_s, runner, file_finder)\u001b[0m\n\u001b[1;32m    712\u001b[0m             \u001b[0;32mif\u001b[0m \u001b[0mos\u001b[0m\u001b[0;34m.\u001b[0m\u001b[0mname\u001b[0m \u001b[0;34m==\u001b[0m \u001b[0;34m'nt'\u001b[0m \u001b[0;32mand\u001b[0m \u001b[0mre\u001b[0m\u001b[0;34m.\u001b[0m\u001b[0mmatch\u001b[0m\u001b[0;34m(\u001b[0m\u001b[0;34mr\"^'.*'$\"\u001b[0m\u001b[0;34m,\u001b[0m\u001b[0mfpath\u001b[0m\u001b[0;34m)\u001b[0m\u001b[0;34m:\u001b[0m\u001b[0;34m\u001b[0m\u001b[0;34m\u001b[0m\u001b[0m\n\u001b[1;32m    713\u001b[0m                 \u001b[0mwarn\u001b[0m\u001b[0;34m(\u001b[0m\u001b[0;34m'For Windows, use double quotes to wrap a filename: %run \"mypath\\\\myfile.py\"'\u001b[0m\u001b[0;34m)\u001b[0m\u001b[0;34m\u001b[0m\u001b[0;34m\u001b[0m\u001b[0m\n\u001b[0;32m--> 714\u001b[0;31m             \u001b[0;32mraise\u001b[0m \u001b[0mException\u001b[0m\u001b[0;34m(\u001b[0m\u001b[0mmsg\u001b[0m\u001b[0;34m)\u001b[0m\u001b[0;34m\u001b[0m\u001b[0;34m\u001b[0m\u001b[0m\n\u001b[0m\u001b[1;32m    715\u001b[0m         \u001b[0;32mexcept\u001b[0m \u001b[0mTypeError\u001b[0m\u001b[0;34m:\u001b[0m\u001b[0;34m\u001b[0m\u001b[0;34m\u001b[0m\u001b[0m\n\u001b[1;32m    716\u001b[0m             \u001b[0;32mif\u001b[0m \u001b[0mfpath\u001b[0m \u001b[0;32min\u001b[0m \u001b[0msys\u001b[0m\u001b[0;34m.\u001b[0m\u001b[0mmeta_path\u001b[0m\u001b[0;34m:\u001b[0m\u001b[0;34m\u001b[0m\u001b[0;34m\u001b[0m\u001b[0m\n",
      "\u001b[0;31mException\u001b[0m: File `'python -c \"import numpy; numpy.info(numpy.add)\".py'` not found."
     ]
    }
   ],
   "source": [
    "#5. documentatoin of the numpy add function from the command line\n",
    "%run 'python -c \"import numpy; numpy.info(numpy.add)\"'"
   ]
  },
  {
   "cell_type": "code",
   "execution_count": 25,
   "id": "f2ea8606",
   "metadata": {},
   "outputs": [
    {
     "data": {
      "text/plain": [
       "array([0., 0., 0., 0., 0., 1., 0., 0., 0., 0.])"
      ]
     },
     "execution_count": 25,
     "metadata": {},
     "output_type": "execute_result"
    }
   ],
   "source": [
    "#6. To create a null vector of size 10 but the fifth value which is 1\n",
    "y = np.zeros(10)\n",
    "y[5] = 1\n",
    "y"
   ]
  },
  {
   "cell_type": "code",
   "execution_count": 26,
   "id": "71a20600",
   "metadata": {},
   "outputs": [
    {
     "data": {
      "text/plain": [
       "array([10, 11, 12, 13, 14, 15, 16, 17, 18, 19, 20, 21, 22, 23, 24, 25, 26,\n",
       "       27, 28, 29, 30, 31, 32, 33, 34, 35, 36, 37, 38, 39, 40, 41, 42, 43,\n",
       "       44, 45, 46, 47, 48, 49])"
      ]
     },
     "execution_count": 26,
     "metadata": {},
     "output_type": "execute_result"
    }
   ],
   "source": [
    "#7. To create a vector with values ranging from 10 to 49 \n",
    "# Be careful that the range includes 49.\n",
    "np.arange(10, 50)"
   ]
  },
  {
   "cell_type": "code",
   "execution_count": 27,
   "id": "05eeff25",
   "metadata": {},
   "outputs": [
    {
     "data": {
      "text/plain": [
       "array([0., 0., 0., 0., 1., 0., 0., 0., 0., 0.])"
      ]
     },
     "execution_count": 27,
     "metadata": {},
     "output_type": "execute_result"
    }
   ],
   "source": [
    "#8. To reverse a vector\n",
    "y[::-1]"
   ]
  },
  {
   "cell_type": "code",
   "execution_count": 34,
   "id": "88a479e6",
   "metadata": {},
   "outputs": [
    {
     "data": {
      "text/plain": [
       "array([[0, 1, 2],\n",
       "       [3, 4, 5],\n",
       "       [6, 7, 8]])"
      ]
     },
     "execution_count": 34,
     "metadata": {},
     "output_type": "execute_result"
    }
   ],
   "source": [
    "#9. To create a 3x3 matrix with values ranging from 0 to 8\n",
    "np.arange(0,9).reshape(3,3)"
   ]
  },
  {
   "cell_type": "code",
   "execution_count": 36,
   "id": "69e8a0ed",
   "metadata": {},
   "outputs": [
    {
     "data": {
      "text/plain": [
       "(array([0, 1, 4]),)"
      ]
     },
     "execution_count": 36,
     "metadata": {},
     "output_type": "execute_result"
    }
   ],
   "source": [
    "#10 To find indices of non-zero elements from [1,2,0,0,4,0]\n",
    "nz = np.nonzero([1,2,0,0,4,0])\n",
    "nz"
   ]
  },
  {
   "cell_type": "code",
   "execution_count": 38,
   "id": "7aa231b7",
   "metadata": {},
   "outputs": [
    {
     "data": {
      "text/plain": [
       "array([[1., 0., 0.],\n",
       "       [0., 1., 0.],\n",
       "       [0., 0., 1.]])"
      ]
     },
     "execution_count": 38,
     "metadata": {},
     "output_type": "execute_result"
    }
   ],
   "source": [
    "#11. To create a 3x3 identity matrix\n",
    "np.eye(3,3)"
   ]
  },
  {
   "cell_type": "code",
   "execution_count": 43,
   "id": "2bda1630",
   "metadata": {},
   "outputs": [
    {
     "data": {
      "text/plain": [
       "array([[[0.53828224, 0.74485754, 0.38351639],\n",
       "        [0.24127624, 0.22037613, 0.79274123],\n",
       "        [0.32930255, 0.30590131, 0.55233435]],\n",
       "\n",
       "       [[0.00873229, 0.85840292, 0.17226103],\n",
       "        [0.46904898, 0.1853788 , 0.25057998],\n",
       "        [0.00276748, 0.79228632, 0.54571654]],\n",
       "\n",
       "       [[0.09282286, 0.82285705, 0.78496833],\n",
       "        [0.4236024 , 0.45931054, 0.13064698],\n",
       "        [0.37873868, 0.61733235, 0.71715462]]])"
      ]
     },
     "execution_count": 43,
     "metadata": {},
     "output_type": "execute_result"
    }
   ],
   "source": [
    "#12. To create a 3x3x3 array with random values\n",
    "#Important: Put more than one value in two parantheses\n",
    "np.random.random((3,3,3))"
   ]
  },
  {
   "cell_type": "code",
   "execution_count": 48,
   "id": "eb27fbf3",
   "metadata": {},
   "outputs": [
    {
     "data": {
      "text/plain": [
       "0.9928639369455603"
      ]
     },
     "execution_count": 48,
     "metadata": {},
     "output_type": "execute_result"
    }
   ],
   "source": [
    "#13. To create a 10x10 array with random values and find the minimum and maximum values\n",
    "z = np.random.random((10,10))\n",
    "z.min()\n",
    "z.max()"
   ]
  },
  {
   "cell_type": "code",
   "execution_count": 53,
   "id": "b938cafd",
   "metadata": {},
   "outputs": [
    {
     "data": {
      "text/plain": [
       "0.4760275332741364"
      ]
     },
     "execution_count": 53,
     "metadata": {},
     "output_type": "execute_result"
    }
   ],
   "source": [
    "#14. To create a random vector of size 30 and find the mean value\n",
    "r= np.random.random(30)\n",
    "mean = r.mean()\n",
    "mean"
   ]
  },
  {
   "cell_type": "code",
   "execution_count": 60,
   "id": "0e9830e3",
   "metadata": {},
   "outputs": [
    {
     "data": {
      "text/plain": [
       "array([[1., 1., 1., 1., 1., 1., 1., 1., 1., 1.],\n",
       "       [1., 0., 0., 0., 0., 0., 0., 0., 0., 1.],\n",
       "       [1., 0., 0., 0., 0., 0., 0., 0., 0., 1.],\n",
       "       [1., 0., 0., 0., 0., 0., 0., 0., 0., 1.],\n",
       "       [1., 0., 0., 0., 0., 0., 0., 0., 0., 1.],\n",
       "       [1., 0., 0., 0., 0., 0., 0., 0., 0., 1.],\n",
       "       [1., 0., 0., 0., 0., 0., 0., 0., 0., 1.],\n",
       "       [1., 0., 0., 0., 0., 0., 0., 0., 0., 1.],\n",
       "       [1., 0., 0., 0., 0., 0., 0., 0., 0., 1.],\n",
       "       [1., 1., 1., 1., 1., 1., 1., 1., 1., 1.]])"
      ]
     },
     "execution_count": 60,
     "metadata": {},
     "output_type": "execute_result"
    }
   ],
   "source": [
    "#15. To create a 2d array with 1 on the border and 0 inside\n",
    "#First create a 2d array with only ones with the np.ones()\n",
    "#Then replace the inside with 0\n",
    "o = np.ones((10,10))\n",
    "o[1:-1, 1:-1] = 0\n",
    "o"
   ]
  },
  {
   "cell_type": "code",
   "execution_count": 67,
   "id": "ad3a24c3",
   "metadata": {},
   "outputs": [
    {
     "data": {
      "text/plain": [
       "array([[0., 0., 0., 0., 0., 0., 0., 0., 0., 0.],\n",
       "       [0., 1., 1., 1., 1., 1., 1., 1., 1., 0.],\n",
       "       [0., 1., 1., 1., 1., 1., 1., 1., 1., 0.],\n",
       "       [0., 1., 1., 1., 1., 1., 1., 1., 1., 0.],\n",
       "       [0., 1., 1., 1., 1., 1., 1., 1., 1., 0.],\n",
       "       [0., 1., 1., 1., 1., 1., 1., 1., 1., 0.],\n",
       "       [0., 1., 1., 1., 1., 1., 1., 1., 1., 0.],\n",
       "       [0., 1., 1., 1., 1., 1., 1., 1., 1., 0.],\n",
       "       [0., 1., 1., 1., 1., 1., 1., 1., 1., 0.],\n",
       "       [0., 0., 0., 0., 0., 0., 0., 0., 0., 0.]])"
      ]
     },
     "execution_count": 67,
     "metadata": {},
     "output_type": "execute_result"
    }
   ],
   "source": [
    "#16. To add a border (filled wiht 0's) around an existing array\n",
    "z = np.ones((8,8))\n",
    "z = np.pad(z,pad_width=1, mode='constant', constant_values=0)\n",
    "z"
   ]
  },
  {
   "cell_type": "code",
   "execution_count": 76,
   "id": "49e20677",
   "metadata": {},
   "outputs": [
    {
     "data": {
      "text/plain": [
       "False"
      ]
     },
     "execution_count": 76,
     "metadata": {},
     "output_type": "execute_result"
    }
   ],
   "source": [
    "#17. What is the result of the following expression?\n",
    "(0 * np.nan) #result: Nan\n",
    "np.nan == np.nan #result: False\n",
    "np.inf > np.nan #result: False\n",
    "np.nan - np.nan #result: nan\n",
    "np.nan in set([np.nan]) #result: True\n",
    "0.3 == 3 * 0.1 #result: False"
   ]
  },
  {
   "cell_type": "code",
   "execution_count": 79,
   "id": "28cdf3dd",
   "metadata": {},
   "outputs": [
    {
     "data": {
      "text/plain": [
       "array([[0, 0, 0, 0, 0],\n",
       "       [1, 0, 0, 0, 0],\n",
       "       [0, 2, 0, 0, 0],\n",
       "       [0, 0, 3, 0, 0],\n",
       "       [0, 0, 0, 4, 0]])"
      ]
     },
     "execution_count": 79,
     "metadata": {},
     "output_type": "execute_result"
    }
   ],
   "source": [
    "#18. To create a 5x5 matrix with values 1,2,3,4 just below the diagonal\n",
    "i = np.diag(1+np.arange(4), k=-1)\n",
    "i"
   ]
  },
  {
   "cell_type": "code",
   "execution_count": 85,
   "id": "ce3bb991",
   "metadata": {},
   "outputs": [
    {
     "data": {
      "text/plain": [
       "array([[0., 1., 0., 1., 0., 1., 0., 1.],\n",
       "       [1., 0., 1., 0., 1., 0., 1., 0.],\n",
       "       [0., 1., 0., 1., 0., 1., 0., 1.],\n",
       "       [1., 0., 1., 0., 1., 0., 1., 0.],\n",
       "       [0., 1., 0., 1., 0., 1., 0., 1.],\n",
       "       [1., 0., 1., 0., 1., 0., 1., 0.],\n",
       "       [0., 1., 0., 1., 0., 1., 0., 1.],\n",
       "       [1., 0., 1., 0., 1., 0., 1., 0.]])"
      ]
     },
     "execution_count": 85,
     "metadata": {},
     "output_type": "execute_result"
    }
   ],
   "source": [
    "#19. To create a 8x8 matrix and fill it with a checkerboard pattern\n",
    "j = np.zeros((8,8))\n",
    "j[1::2,::2] = 1\n",
    "j[::2,1::2] = 1\n",
    "j"
   ]
  },
  {
   "cell_type": "code",
   "execution_count": 93,
   "id": "97035758",
   "metadata": {},
   "outputs": [
    {
     "name": "stdout",
     "output_type": "stream",
     "text": [
      "[[[0.45856688 0.77608358 0.77785525 0.90341024 0.01605974 0.83635491\n",
      "   0.19025242 0.85646858]\n",
      "  [0.96126705 0.80011462 0.08455655 0.75328619 0.51307425 0.0248107\n",
      "   0.94723049 0.53727614]\n",
      "  [0.55202756 0.89922313 0.33340759 0.13177722 0.64878083 0.33643763\n",
      "   0.96579013 0.28594876]\n",
      "  [0.33737706 0.63286828 0.57868509 0.92675229 0.6767784  0.7969442\n",
      "   0.46376562 0.13635542]\n",
      "  [0.24677351 0.34078555 0.63576225 0.24912268 0.02381279 0.23707548\n",
      "   0.40184351 0.92995106]\n",
      "  [0.30960454 0.65668479 0.46215188 0.40335566 0.35097906 0.46315261\n",
      "   0.32457628 0.6821496 ]\n",
      "  [0.67298907 0.95284395 0.02891396 0.34813873 0.68462034 0.81010356\n",
      "   0.88094842 0.85018992]]\n",
      "\n",
      " [[0.56219497 0.67470127 0.38603538 0.3935728  0.51191432 0.43502059\n",
      "   0.86037331 0.0083164 ]\n",
      "  [0.84645946 0.65709889 0.72950071 0.57602391 0.03298486 0.82412897\n",
      "   0.92013786 0.90763898]\n",
      "  [0.82240081 0.18367739 0.03854627 0.34821525 0.582697   0.03818104\n",
      "   0.10104139 0.84408252]\n",
      "  [0.07138892 0.42596753 0.5534278  0.22261987 0.35386854 0.67532969\n",
      "   0.53584693 0.60546446]\n",
      "  [0.41117183 0.5389526  0.13453829 0.67978    0.39865214 0.91301344\n",
      "   0.98809944 0.96712263]\n",
      "  [0.03671983 0.42253592 0.35350443 0.87840855 0.91721587 0.20778657\n",
      "   0.47834209 0.44700335]\n",
      "  [0.84414656 0.41830459 0.18424813 0.51815456 0.55496855 0.02373501\n",
      "   0.11760999 0.15185065]]\n",
      "\n",
      " [[0.62217755 0.23577678 0.38461376 0.09220854 0.24537828 0.37252032\n",
      "   0.28831482 0.44137669]\n",
      "  [0.8841285  0.76478657 0.80531566 0.2610874  0.55816358 0.22885793\n",
      "   0.93938046 0.8363746 ]\n",
      "  [0.07104771 0.12618452 0.63763432 0.64515799 0.4243259  0.77994403\n",
      "   0.29057487 0.27343673]\n",
      "  [0.51882542 0.9009195  0.5952363  0.59961688 0.66007488 0.18528411\n",
      "   0.48379286 0.02158083]\n",
      "  [0.57446143 0.33791104 0.06361272 0.45493402 0.23267161 0.2862664\n",
      "   0.98246206 0.49222536]\n",
      "  [0.67660061 0.34519658 0.16921845 0.2195593  0.96256048 0.54093327\n",
      "   0.97722859 0.39876455]\n",
      "  [0.35416412 0.25234007 0.90169654 0.42694169 0.9611889  0.19922863\n",
      "   0.37102592 0.58609425]]\n",
      "\n",
      " [[0.90783745 0.95375813 0.54924763 0.69760162 0.12129765 0.96856313\n",
      "   0.55854527 0.83550427]\n",
      "  [0.90831381 0.19928861 0.19585001 0.13642271 0.57787818 0.41800552\n",
      "   0.8562486  0.57458219]\n",
      "  [0.36118192 0.26175448 0.12902931 0.10218601 0.39213562 0.76608119\n",
      "   0.37584896 0.55519799]\n",
      "  [0.87660682 0.58227682 0.15577559 0.87689769 0.19727662 0.5257627\n",
      "   0.70135315 0.36973009]\n",
      "  [0.0730126  0.50332838 0.01623848 0.74434648 0.69907142 0.388263\n",
      "   0.48944169 0.25491048]\n",
      "  [0.58592139 0.26771629 0.65836095 0.19578777 0.13382408 0.31788859\n",
      "   0.33921366 0.54082735]\n",
      "  [0.78762801 0.90644791 0.58744722 0.42677313 0.96314034 0.77917931\n",
      "   0.73013443 0.62909269]]\n",
      "\n",
      " [[0.85831288 0.81439815 0.59581986 0.74246797 0.83424308 0.64770149\n",
      "   0.00141597 0.06469848]\n",
      "  [0.53915554 0.11750086 0.51199958 0.84277477 0.24804085 0.57526485\n",
      "   0.20101823 0.77566098]\n",
      "  [0.46789167 0.57573103 0.21204896 0.61701696 0.94957578 0.95865531\n",
      "   0.62791982 0.05037093]\n",
      "  [0.6556872  0.17115424 0.31375622 0.94336224 0.24541662 0.57302849\n",
      "   0.32999187 0.00658543]\n",
      "  [0.16404951 0.2257903  0.44976228 0.01981098 0.37754322 0.06457537\n",
      "   0.32989521 0.03238312]\n",
      "  [0.20947026 0.78797917 0.41341173 0.2742581  0.41964888 0.40585101\n",
      "   0.44210437 0.63928368]\n",
      "  [0.71114294 0.30250637 0.55697903 0.96247453 0.70073122 0.24712519\n",
      "   0.18965499 0.23277709]]\n",
      "\n",
      " [[0.52463928 0.44557674 0.91408228 0.27765382 0.48186976 0.12693633\n",
      "   0.74794227 0.19063249]\n",
      "  [0.26401596 0.53262029 0.39243989 0.61297875 0.78631725 0.38922839\n",
      "   0.24524179 0.08823113]\n",
      "  [0.13964984 0.77459605 0.24374968 0.55951709 0.82439838 0.18445085\n",
      "   0.06839898 0.57566087]\n",
      "  [0.52756331 0.0236864  0.24590695 0.02338042 0.76528998 0.96181606\n",
      "   0.93778071 0.37662659]\n",
      "  [0.9631582  0.5095747  0.82793184 0.67654419 0.89731058 0.7384937\n",
      "   0.89996632 0.12443553]\n",
      "  [0.12307528 0.44331056 0.1239834  0.64377859 0.89849058 0.81641563\n",
      "   0.64306111 0.37051463]\n",
      "  [0.04656347 0.73857213 0.59946184 0.08336427 0.06979817 0.29535101\n",
      "   0.78550327 0.17353902]]]\n"
     ]
    },
    {
     "data": {
      "text/plain": [
       "(1, 5, 3)"
      ]
     },
     "execution_count": 93,
     "metadata": {},
     "output_type": "execute_result"
    }
   ],
   "source": [
    "#20. To consider a (6,7,8) shape array, what is the index (x,y,z) of the 100th element?\n",
    "p = np.random.random((6,7,8))\n",
    "print(p)\n",
    "np.unravel_index(99,(6,7,8))"
   ]
  },
  {
   "cell_type": "code",
   "execution_count": 112,
   "id": "a186bb61",
   "metadata": {},
   "outputs": [
    {
     "data": {
      "text/plain": [
       "array([[0, 1, 0, 1, 0, 1, 0, 1],\n",
       "       [0, 1, 0, 1, 0, 1, 0, 1],\n",
       "       [0, 1, 0, 1, 0, 1, 0, 1],\n",
       "       [0, 1, 0, 1, 0, 1, 0, 1],\n",
       "       [0, 1, 0, 1, 0, 1, 0, 1],\n",
       "       [0, 1, 0, 1, 0, 1, 0, 1],\n",
       "       [0, 1, 0, 1, 0, 1, 0, 1],\n",
       "       [0, 1, 0, 1, 0, 1, 0, 1]])"
      ]
     },
     "execution_count": 112,
     "metadata": {},
     "output_type": "execute_result"
    }
   ],
   "source": [
    "#21 To create a checkerboard 8x8 matrix using the tile function\n",
    "k = np.tile( np.array([[0,1], [0,1]]), (4,4))\n",
    "k"
   ]
  },
  {
   "cell_type": "code",
   "execution_count": 115,
   "id": "d1a605e6",
   "metadata": {},
   "outputs": [
    {
     "data": {
      "text/plain": [
       "array([[ 1.28490274,  0.083201  , -0.94554937,  0.78737999, -0.62752522],\n",
       "       [ 1.1084234 , -1.4928122 , -0.47443158,  0.35356672,  0.5552679 ],\n",
       "       [ 0.92418206, -0.39061914, -0.86652135,  0.59762185, -0.65145006],\n",
       "       [ 0.45300418, -0.2435767 , -1.29180771, -0.87037555, -1.58564589],\n",
       "       [-0.9269439 ,  2.26233451, -0.24323259,  1.84752024,  0.35308667]])"
      ]
     },
     "execution_count": 115,
     "metadata": {},
     "output_type": "execute_result"
    }
   ],
   "source": [
    "#22 To normalize a 5x5 random matrix\n",
    "u = np.random.random((5,5))\n",
    "u = (u - np.mean (u)) / (np.std (u))\n",
    "u"
   ]
  },
  {
   "cell_type": "code",
   "execution_count": 121,
   "id": "9dc07f86",
   "metadata": {},
   "outputs": [
    {
     "name": "stderr",
     "output_type": "stream",
     "text": [
      "<ipython-input-121-09f0ae7d3a4b>:2: FutureWarning: Passing (type, 1) or '1type' as a synonym of type is deprecated; in a future version of numpy, it will be understood as (type, (1,)) / '(1,)type'.\n",
      "  colour = np.dtype([(\"r\", np.ubyte, 1),\n"
     ]
    },
    {
     "data": {
      "text/plain": [
       "dtype([('r', 'u1'), ('g', 'u1'), ('b', 'u1'), ('a', 'u1')])"
      ]
     },
     "execution_count": 121,
     "metadata": {},
     "output_type": "execute_result"
    }
   ],
   "source": [
    "#23. To create a custom dtype that describes a color as four unsigned bytes (RGBA)\n",
    "colour = np.dtype([(\"r\", np.ubyte, 1),\n",
    "                 (\"g\", np.ubyte, 1),\n",
    "                 (\"b\", np.ubyte, 1),\n",
    "                 (\"a\", np.ubyte, 1)])\n",
    "colour"
   ]
  },
  {
   "cell_type": "code",
   "execution_count": 127,
   "id": "a1ce9252",
   "metadata": {},
   "outputs": [
    {
     "data": {
      "text/plain": [
       "array([[3., 3.],\n",
       "       [3., 3.],\n",
       "       [3., 3.],\n",
       "       [3., 3.],\n",
       "       [3., 3.]])"
      ]
     },
     "execution_count": 127,
     "metadata": {},
     "output_type": "execute_result"
    }
   ],
   "source": [
    "#24. To multiply a 5x3 matrix by a 3x2 matrix (real matrix product)\n",
    "\n",
    "t = np.dot(np.ones((5,3)), np.ones((3,2)))\n",
    "t"
   ]
  },
  {
   "cell_type": "code",
   "execution_count": 133,
   "id": "ecaacf37",
   "metadata": {},
   "outputs": [
    {
     "data": {
      "text/plain": [
       "array([ 0,  1,  2,  3, -4, -5, -6, -7,  8,  9])"
      ]
     },
     "execution_count": 133,
     "metadata": {},
     "output_type": "execute_result"
    }
   ],
   "source": [
    "#25. To give a 1D array, negate all elements which are between 3 and 8, in place.\n",
    "u = np.arange(10)\n",
    "u[(3 < u) & (u < 8)] *= -1\n",
    "u"
   ]
  },
  {
   "cell_type": "code",
   "execution_count": 135,
   "id": "701ddc16",
   "metadata": {},
   "outputs": [
    {
     "name": "stdout",
     "output_type": "stream",
     "text": [
      "9\n",
      "10\n"
     ]
    }
   ],
   "source": [
    "#26. What is the output of the following script?\n",
    "print(sum(range(5),-1))\n",
    "from numpy import *\n",
    "print(sum(range(5),-1)) #it sums it "
   ]
  },
  {
   "cell_type": "code",
   "execution_count": 143,
   "id": "527b568b",
   "metadata": {},
   "outputs": [
    {
     "data": {
      "text/plain": [
       "False"
      ]
     },
     "execution_count": 143,
     "metadata": {},
     "output_type": "execute_result"
    }
   ],
   "source": [
    "#27. Consider an integer vector Z, which of these expressions are legal?\n",
    "Z = np.array(11)\n",
    "Z**Z #result: 285311670611\n",
    "2 << Z >> 2 #result: 1024\n",
    "Z <- Z #result: False\n",
    "1j*Z #result: 11j\n",
    "Z/1/1 #result: 11.0\n",
    "Z<Z>Z #result: False"
   ]
  },
  {
   "cell_type": "code",
   "execution_count": 148,
   "id": "c27a87d2",
   "metadata": {},
   "outputs": [
    {
     "name": "stderr",
     "output_type": "stream",
     "text": [
      "<ipython-input-148-e03d300d79e7>:2: RuntimeWarning: invalid value encountered in true_divide\n",
      "  np.array(0) / np.array(0) #result: nan\n",
      "<ipython-input-148-e03d300d79e7>:3: RuntimeWarning: divide by zero encountered in floor_divide\n",
      "  np.array(0) // np.array(0) #result: 0\n"
     ]
    },
    {
     "data": {
      "text/plain": [
       "array([-9.22337204e+18])"
      ]
     },
     "execution_count": 148,
     "metadata": {},
     "output_type": "execute_result"
    }
   ],
   "source": [
    "#28. What are the result of the following expressions?\n",
    "np.array(0) / np.array(0) #result: nan\n",
    "np.array(0) // np.array(0) #result: 0\n",
    "np.array([np.nan]).astype(int).astype(float) #result: array([-9.22337204e+18])"
   ]
  },
  {
   "cell_type": "code",
   "execution_count": 153,
   "id": "641aeb7a",
   "metadata": {},
   "outputs": [
    {
     "data": {
      "text/plain": [
       "array([ -9.,   6.,   2.,   1., -15.,   5., -15.,  10.,  -3.,  10.,   3.,\n",
       "       -10.,   7.,  10.,   7.])"
      ]
     },
     "execution_count": 153,
     "metadata": {},
     "output_type": "execute_result"
    }
   ],
   "source": [
    "#29. To round away from zero a float array\n",
    "e = np.random.uniform(-15, 10, 15)\n",
    "np.copysign(np.ceil(np.abs(e)), e)"
   ]
  },
  {
   "cell_type": "code",
   "execution_count": 154,
   "id": "6fdc9eed",
   "metadata": {},
   "outputs": [
    {
     "data": {
      "text/plain": [
       "array([0, 5, 7, 9])"
      ]
     },
     "execution_count": 154,
     "metadata": {},
     "output_type": "execute_result"
    }
   ],
   "source": [
    "#30. How to find common values between two arrays?\n",
    "p1 = np.random.randint(0,10,10)\n",
    "p2 = np.random.randint(0,10,10)\n",
    "np.intersect1d(p1,p2)"
   ]
  },
  {
   "cell_type": "code",
   "execution_count": 159,
   "id": "c345fe23",
   "metadata": {},
   "outputs": [
    {
     "data": {
      "text/plain": [
       "{'divide': 'ignore', 'over': 'ignore', 'under': 'ignore', 'invalid': 'ignore'}"
      ]
     },
     "execution_count": 159,
     "metadata": {},
     "output_type": "execute_result"
    }
   ],
   "source": [
    "#31. How to ignore all numpy warnings(not recommended)?\n",
    "o = np.seterr(all=\"ignore\")\n",
    "np.seterr(**o)"
   ]
  },
  {
   "cell_type": "code",
   "execution_count": 161,
   "id": "84b89213",
   "metadata": {},
   "outputs": [
    {
     "data": {
      "text/plain": [
       "False"
      ]
     },
     "execution_count": 161,
     "metadata": {},
     "output_type": "execute_result"
    }
   ],
   "source": [
    "#32. Is the following expression true?\n",
    "np.sqrt(-1) == np.emath.sqrt(-1) #result: False"
   ]
  },
  {
   "cell_type": "code",
   "execution_count": 172,
   "id": "e170ba21",
   "metadata": {},
   "outputs": [
    {
     "name": "stdout",
     "output_type": "stream",
     "text": [
      "2022-01-13\n",
      "2022-01-12\n",
      "2022-01-14\n"
     ]
    }
   ],
   "source": [
    "#33. How to get the dates of yesterday, today and tomorrow?\n",
    "today = np.datetime64('today', 'D')\n",
    "print(today)\n",
    "yesterday = np.datetime64('today', 'D') - np.timedelta64(1, 'D')\n",
    "print(yesterday)\n",
    "tomorrow = np.datetime64('today', 'D') + np.timedelta64(1, 'D')\n",
    "print(tomorrow)"
   ]
  },
  {
   "cell_type": "code",
   "execution_count": 177,
   "id": "b44f6346",
   "metadata": {},
   "outputs": [
    {
     "data": {
      "text/plain": [
       "array(['2016-07-01', '2016-07-02', '2016-07-03', '2016-07-04',\n",
       "       '2016-07-05', '2016-07-06', '2016-07-07', '2016-07-08',\n",
       "       '2016-07-09', '2016-07-10', '2016-07-11', '2016-07-12',\n",
       "       '2016-07-13', '2016-07-14', '2016-07-15', '2016-07-16',\n",
       "       '2016-07-17', '2016-07-18', '2016-07-19', '2016-07-20',\n",
       "       '2016-07-21', '2016-07-22', '2016-07-23', '2016-07-24',\n",
       "       '2016-07-25', '2016-07-26', '2016-07-27', '2016-07-28',\n",
       "       '2016-07-29', '2016-07-30', '2016-07-31'], dtype='datetime64[D]')"
      ]
     },
     "execution_count": 177,
     "metadata": {},
     "output_type": "execute_result"
    }
   ],
   "source": [
    "#34. How to get all the dates corresponding to the month of July 2016?\n",
    "july = np.arange('2016-07', '2016-08', dtype= 'datetime64[D]')\n",
    "july"
   ]
  },
  {
   "cell_type": "code",
   "execution_count": null,
   "id": "8ed04f94",
   "metadata": {},
   "outputs": [],
   "source": [
    "#35. How to compute ((A+B)*(-A/2))) in place (without copy)?"
   ]
  },
  {
   "cell_type": "markdown",
   "id": "48e004f6",
   "metadata": {},
   "source": [
    "Here I realized that the lab is that:"
   ]
  },
  {
   "cell_type": "code",
   "execution_count": null,
   "id": "7bdadaf6",
   "metadata": {},
   "outputs": [],
   "source": [
    "#1. Import the numpy package\n",
    "import numpy as np"
   ]
  },
  {
   "cell_type": "code",
   "execution_count": 178,
   "id": "0ad5fdee",
   "metadata": {},
   "outputs": [],
   "source": [
    "# 2. Create a null vector of size 10\n",
    "zeros = np.zeros(10)"
   ]
  },
  {
   "cell_type": "code",
   "execution_count": 181,
   "id": "1f0b090e",
   "metadata": {},
   "outputs": [
    {
     "name": "stdout",
     "output_type": "stream",
     "text": [
      "[0. 0. 0. 0. 1. 0. 0. 0. 0. 0.]\n"
     ]
    }
   ],
   "source": [
    "# 3. Create a null vector of size 10 but the fifth value which is 1\n",
    "zeros[4]=1\n",
    "print(zeros)"
   ]
  },
  {
   "cell_type": "code",
   "execution_count": 183,
   "id": "276333ae",
   "metadata": {},
   "outputs": [
    {
     "data": {
      "text/plain": [
       "array([10, 11, 12, 13, 14, 15, 16, 17, 18, 19, 20, 21, 22, 23, 24, 25, 26,\n",
       "       27, 28, 29, 30, 31, 32, 33, 34, 35, 36, 37, 38, 39, 40, 41, 42, 43,\n",
       "       44, 45, 46, 47, 48, 49])"
      ]
     },
     "execution_count": 183,
     "metadata": {},
     "output_type": "execute_result"
    }
   ],
   "source": [
    "# 4. Create a vector with values ranging form 10 to 49\n",
    "np.arange(10,50)"
   ]
  },
  {
   "cell_type": "code",
   "execution_count": 185,
   "id": "e77a25b9",
   "metadata": {},
   "outputs": [
    {
     "data": {
      "text/plain": [
       "array([[0, 1, 2],\n",
       "       [3, 4, 5],\n",
       "       [6, 7, 8]])"
      ]
     },
     "execution_count": 185,
     "metadata": {},
     "output_type": "execute_result"
    }
   ],
   "source": [
    "#5. Create a 3x3 matrix with valuse ranging from 0 to 8\n",
    "np.arange(0,9).reshape(3,3)"
   ]
  },
  {
   "cell_type": "code",
   "execution_count": 187,
   "id": "62b4a3bc",
   "metadata": {},
   "outputs": [
    {
     "data": {
      "text/plain": [
       "(array([0, 1, 4]),)"
      ]
     },
     "execution_count": 187,
     "metadata": {},
     "output_type": "execute_result"
    }
   ],
   "source": [
    "#6. Find indices of non-zero elements from [1,2,0,0,4,0]\n",
    "np.nonzero([1,2,0,0,4,0])"
   ]
  },
  {
   "cell_type": "code",
   "execution_count": 189,
   "id": "2d1d26b6",
   "metadata": {},
   "outputs": [
    {
     "data": {
      "text/plain": [
       "array([[1., 0., 0.],\n",
       "       [0., 1., 0.],\n",
       "       [0., 0., 1.]])"
      ]
     },
     "execution_count": 189,
     "metadata": {},
     "output_type": "execute_result"
    }
   ],
   "source": [
    "#7. Create a 3x3 identity matrix\n",
    "np.eye(3,3)"
   ]
  },
  {
   "cell_type": "code",
   "execution_count": 191,
   "id": "5a2c0552",
   "metadata": {},
   "outputs": [
    {
     "data": {
      "text/plain": [
       "array([[[0.33318673, 0.42722224, 0.1398876 ],\n",
       "        [0.66536943, 0.26006691, 0.37656424],\n",
       "        [0.68714618, 0.21016568, 0.52752549]],\n",
       "\n",
       "       [[0.38384841, 0.92604937, 0.53825125],\n",
       "        [0.1640066 , 0.80516989, 0.62787271],\n",
       "        [0.13890263, 0.67892846, 0.44153217]],\n",
       "\n",
       "       [[0.43655232, 0.11887816, 0.52552353],\n",
       "        [0.47470312, 0.44904073, 0.67876118],\n",
       "        [0.39059836, 0.85745336, 0.87187386]]])"
      ]
     },
     "execution_count": 191,
     "metadata": {},
     "output_type": "execute_result"
    }
   ],
   "source": [
    "#8. Create a 3x3x3 array with random values\n",
    "np.random.random((3,3,3))"
   ]
  },
  {
   "cell_type": "code",
   "execution_count": 202,
   "id": "6f6da043",
   "metadata": {},
   "outputs": [
    {
     "data": {
      "text/plain": [
       "0.9956684788364594"
      ]
     },
     "execution_count": 202,
     "metadata": {},
     "output_type": "execute_result"
    }
   ],
   "source": [
    "#9. Create a 10x10 array with random values and find the minimum and maximum\n",
    "z = np.random.random((10,10))\n",
    "z.min()\n",
    "z.max()"
   ]
  },
  {
   "cell_type": "code",
   "execution_count": 205,
   "id": "6088c148",
   "metadata": {},
   "outputs": [
    {
     "data": {
      "text/plain": [
       "0.44695351569870606"
      ]
     },
     "execution_count": 205,
     "metadata": {},
     "output_type": "execute_result"
    }
   ],
   "source": [
    "#10. Create a random vector of size 30 and find the mean value\n",
    "r = np.random.random(30)\n",
    "r.mean()"
   ]
  },
  {
   "cell_type": "code",
   "execution_count": 207,
   "id": "9c055340",
   "metadata": {},
   "outputs": [
    {
     "data": {
      "text/plain": [
       "array([[0, 0, 0, 0, 0],\n",
       "       [1, 0, 0, 0, 0],\n",
       "       [0, 2, 0, 0, 0],\n",
       "       [0, 0, 3, 0, 0],\n",
       "       [0, 0, 0, 4, 0]])"
      ]
     },
     "execution_count": 207,
     "metadata": {},
     "output_type": "execute_result"
    }
   ],
   "source": [
    "#11. Create a 5x5 matrix with values 1,2,3,4 just below the diagonal\n",
    "#18. To create a 5x5 matrix with values 1,2,3,4 just below the diagonal\n",
    "i = np.diag(1+np.arange(4), k=-1)\n",
    "i"
   ]
  },
  {
   "cell_type": "code",
   "execution_count": 209,
   "id": "1c88ac83",
   "metadata": {},
   "outputs": [
    {
     "data": {
      "text/plain": [
       "array([[ 0.26450124,  1.39644308, -0.80292125,  1.14429012, -0.36704867],\n",
       "       [ 2.08268382,  1.08713957, -1.21093255, -0.73799867, -0.68865005],\n",
       "       [ 1.08914978, -0.24782547, -0.8427204 , -1.11855448,  0.06633656],\n",
       "       [ 1.82400952, -0.3817449 , -0.5049549 , -0.45480327, -0.94977309],\n",
       "       [-0.32277765, -0.4294826 ,  1.76025193, -0.62675085, -1.02786683]])"
      ]
     },
     "execution_count": 209,
     "metadata": {},
     "output_type": "execute_result"
    }
   ],
   "source": [
    "#12. To normalize a 5x5 random matrix\n",
    "u = np.random.random((5,5))\n",
    "u = (u - np.mean (u)) / (np.std (u))\n",
    "u"
   ]
  },
  {
   "cell_type": "code",
   "execution_count": 210,
   "id": "b00a8816",
   "metadata": {},
   "outputs": [
    {
     "data": {
      "text/plain": [
       "array([1, 4, 5, 9])"
      ]
     },
     "execution_count": 210,
     "metadata": {},
     "output_type": "execute_result"
    }
   ],
   "source": [
    "#13. How to find common values between two arrays?\n",
    "p1 = np.random.randint(0,10,10)\n",
    "p2 = np.random.randint(0,10,10)\n",
    "np.intersect1d(p1,p2)"
   ]
  },
  {
   "cell_type": "code",
   "execution_count": 216,
   "id": "be32effe",
   "metadata": {},
   "outputs": [
    {
     "data": {
      "text/plain": [
       "array([0.15787638, 0.21674383, 0.24085596, 0.34095554, 0.42330825,\n",
       "       0.44516651, 0.48484098, 0.74321072, 0.79160715, 0.7919874 ])"
      ]
     },
     "execution_count": 216,
     "metadata": {},
     "output_type": "execute_result"
    }
   ],
   "source": [
    "#14.Create a random vector of size 10 and sort it\n",
    "v = np.random.random(10)\n",
    "v.sort()\n",
    "v"
   ]
  },
  {
   "cell_type": "code",
   "execution_count": 232,
   "id": "352caf82",
   "metadata": {},
   "outputs": [
    {
     "data": {
      "text/plain": [
       "array([0.13606269, 0.08318604, 0.53291622, 0.11927758, 0.        ,\n",
       "       0.53060197, 0.91170736, 0.90338426, 0.60318329, 0.76663439])"
      ]
     },
     "execution_count": 232,
     "metadata": {},
     "output_type": "execute_result"
    }
   ],
   "source": [
    "#15. Create random vector of size 10 and replace the maximum value by 0\n",
    "g = np.random.random(10)\n",
    "g.argmax()\n",
    "g[g.argmax()]=0\n",
    "g"
   ]
  },
  {
   "cell_type": "code",
   "execution_count": 235,
   "id": "eeae2f85",
   "metadata": {},
   "outputs": [
    {
     "data": {
      "text/plain": [
       "array([-0.32263269, -0.37550934,  0.07422084, -0.3394178 , -0.45869538,\n",
       "        0.07190659,  0.45301198,  0.44468888,  0.14448791,  0.30793901])"
      ]
     },
     "execution_count": 235,
     "metadata": {},
     "output_type": "execute_result"
    }
   ],
   "source": [
    "#16. Subtract the mean of each row of a matrix\n",
    "z = g - g.mean(axis=0, keepdims=True)\n",
    "z"
   ]
  },
  {
   "cell_type": "code",
   "execution_count": 239,
   "id": "e45e00a5",
   "metadata": {},
   "outputs": [
    {
     "data": {
      "text/plain": [
       "array([9995, 9996, 9997, 9998, 9999])"
      ]
     },
     "execution_count": 239,
     "metadata": {},
     "output_type": "execute_result"
    }
   ],
   "source": [
    "#17. How to get the n largest values of an array\n",
    "H = np.arange(10000)\n",
    "np.random.shuffle(H)\n",
    "n = 5\n",
    "\n",
    "H[np.argpartition(-H,n)[:n]] \n",
    "\n",
    "H[np.argsort(H)[-n:]]"
   ]
  },
  {
   "cell_type": "code",
   "execution_count": 245,
   "id": "f17d28de",
   "metadata": {},
   "outputs": [
    {
     "ename": "SyntaxError",
     "evalue": "cannot assign to comparison (<ipython-input-245-74172304c136>, line 4)",
     "output_type": "error",
     "traceback": [
      "\u001b[0;36m  File \u001b[0;32m\"<ipython-input-245-74172304c136>\"\u001b[0;36m, line \u001b[0;32m4\u001b[0m\n\u001b[0;31m    s[:] > 4 *= 2\u001b[0m\n\u001b[0m    ^\u001b[0m\n\u001b[0;31mSyntaxError\u001b[0m\u001b[0;31m:\u001b[0m cannot assign to comparison\n"
     ]
    }
   ],
   "source": [
    "#18. Create a random 5*3 matrix and replace items that are larger than 4 by their squares\n",
    "\n",
    "s = np.random.random(5*3)\n",
    "s[:] > 4 *= 2"
   ]
  },
  {
   "cell_type": "code",
   "execution_count": null,
   "id": "0b6832e3",
   "metadata": {},
   "outputs": [],
   "source": []
  }
 ],
 "metadata": {
  "kernelspec": {
   "display_name": "Python 3",
   "language": "python",
   "name": "python3"
  },
  "language_info": {
   "codemirror_mode": {
    "name": "ipython",
    "version": 3
   },
   "file_extension": ".py",
   "mimetype": "text/x-python",
   "name": "python",
   "nbconvert_exporter": "python",
   "pygments_lexer": "ipython3",
   "version": "3.8.8"
  }
 },
 "nbformat": 4,
 "nbformat_minor": 5
}
