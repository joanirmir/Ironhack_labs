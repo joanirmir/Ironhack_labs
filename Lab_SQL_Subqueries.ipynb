{
 "cells": [
  {
   "cell_type": "code",
   "execution_count": 12,
   "id": "43965ebb",
   "metadata": {},
   "outputs": [],
   "source": [
    "import pandas as pd\n",
    "import getpass\n",
    "import sqlalchemy as sa"
   ]
  },
  {
   "cell_type": "code",
   "execution_count": 55,
   "id": "3d072af0",
   "metadata": {},
   "outputs": [
    {
     "name": "stdout",
     "output_type": "stream",
     "text": [
      "Your passwords:········\n"
     ]
    }
   ],
   "source": [
    "driver = 'mysql+pymysql'\n",
    "user = 'root'\n",
    "password = getpass.getpass(prompt='Your passwords:'\"\")\n",
    "ip = '127.0.0.1'"
   ]
  },
  {
   "cell_type": "code",
   "execution_count": 56,
   "id": "3eec5cc9",
   "metadata": {},
   "outputs": [],
   "source": [
    "connection_string = f'{driver}://{user}:{password}@{ip}'"
   ]
  },
  {
   "cell_type": "code",
   "execution_count": 57,
   "id": "e54493c6",
   "metadata": {},
   "outputs": [],
   "source": [
    "db_connection = sa.create_engine(connection_string)"
   ]
  },
  {
   "cell_type": "code",
   "execution_count": 58,
   "id": "036fc7ae",
   "metadata": {},
   "outputs": [
    {
     "name": "stdout",
     "output_type": "stream",
     "text": [
      "['bank', 'information_schema', 'mysql', 'performance_schema', 'sakila']\n"
     ]
    }
   ],
   "source": [
    "insp = sa.inspect(db_connection)\n",
    "db_list = insp.get_schema_names()\n",
    "print(db_list)"
   ]
  },
  {
   "cell_type": "markdown",
   "id": "5904206f",
   "metadata": {},
   "source": [
    "#### Lab SQL Subqueries"
   ]
  },
  {
   "cell_type": "code",
   "execution_count": 61,
   "id": "cf1d535c",
   "metadata": {},
   "outputs": [
    {
     "data": {
      "text/html": [
       "<div>\n",
       "<style scoped>\n",
       "    .dataframe tbody tr th:only-of-type {\n",
       "        vertical-align: middle;\n",
       "    }\n",
       "\n",
       "    .dataframe tbody tr th {\n",
       "        vertical-align: top;\n",
       "    }\n",
       "\n",
       "    .dataframe thead th {\n",
       "        text-align: right;\n",
       "    }\n",
       "</style>\n",
       "<table border=\"1\" class=\"dataframe\">\n",
       "  <thead>\n",
       "    <tr style=\"text-align: right;\">\n",
       "      <th></th>\n",
       "      <th>inventory_id</th>\n",
       "      <th>film_id</th>\n",
       "      <th>store_id</th>\n",
       "      <th>last_update</th>\n",
       "    </tr>\n",
       "  </thead>\n",
       "  <tbody>\n",
       "    <tr>\n",
       "      <th>0</th>\n",
       "      <td>1</td>\n",
       "      <td>1</td>\n",
       "      <td>1</td>\n",
       "      <td>2006-02-15 05:09:17</td>\n",
       "    </tr>\n",
       "    <tr>\n",
       "      <th>1</th>\n",
       "      <td>2</td>\n",
       "      <td>1</td>\n",
       "      <td>1</td>\n",
       "      <td>2006-02-15 05:09:17</td>\n",
       "    </tr>\n",
       "    <tr>\n",
       "      <th>2</th>\n",
       "      <td>3</td>\n",
       "      <td>1</td>\n",
       "      <td>1</td>\n",
       "      <td>2006-02-15 05:09:17</td>\n",
       "    </tr>\n",
       "    <tr>\n",
       "      <th>3</th>\n",
       "      <td>4</td>\n",
       "      <td>1</td>\n",
       "      <td>1</td>\n",
       "      <td>2006-02-15 05:09:17</td>\n",
       "    </tr>\n",
       "    <tr>\n",
       "      <th>4</th>\n",
       "      <td>5</td>\n",
       "      <td>1</td>\n",
       "      <td>2</td>\n",
       "      <td>2006-02-15 05:09:17</td>\n",
       "    </tr>\n",
       "  </tbody>\n",
       "</table>\n",
       "</div>"
      ],
      "text/plain": [
       "   inventory_id  film_id  store_id         last_update\n",
       "0             1        1         1 2006-02-15 05:09:17\n",
       "1             2        1         1 2006-02-15 05:09:17\n",
       "2             3        1         1 2006-02-15 05:09:17\n",
       "3             4        1         1 2006-02-15 05:09:17\n",
       "4             5        1         2 2006-02-15 05:09:17"
      ]
     },
     "execution_count": 61,
     "metadata": {},
     "output_type": "execute_result"
    }
   ],
   "source": [
    "# Retrieve data from MYSQL into Pandas Data Frame\n",
    "query = \"SELECT * FROM sakila.inventory\"\n",
    "sakila_inventory = pd.read_sql_query(query, db_connection)\n",
    "sakila_inventory.head()"
   ]
  },
  {
   "cell_type": "code",
   "execution_count": 62,
   "id": "925fd0e9",
   "metadata": {},
   "outputs": [
    {
     "data": {
      "text/html": [
       "<div>\n",
       "<style scoped>\n",
       "    .dataframe tbody tr th:only-of-type {\n",
       "        vertical-align: middle;\n",
       "    }\n",
       "\n",
       "    .dataframe tbody tr th {\n",
       "        vertical-align: top;\n",
       "    }\n",
       "\n",
       "    .dataframe thead th {\n",
       "        text-align: right;\n",
       "    }\n",
       "</style>\n",
       "<table border=\"1\" class=\"dataframe\">\n",
       "  <thead>\n",
       "    <tr style=\"text-align: right;\">\n",
       "      <th></th>\n",
       "      <th>inventory_id</th>\n",
       "      <th>film_id</th>\n",
       "      <th>store_id</th>\n",
       "      <th>last_update</th>\n",
       "    </tr>\n",
       "  </thead>\n",
       "  <tbody>\n",
       "    <tr>\n",
       "      <th>0</th>\n",
       "      <td>1</td>\n",
       "      <td>1</td>\n",
       "      <td>1</td>\n",
       "      <td>2006-02-15 05:09:17</td>\n",
       "    </tr>\n",
       "    <tr>\n",
       "      <th>1</th>\n",
       "      <td>2</td>\n",
       "      <td>1</td>\n",
       "      <td>1</td>\n",
       "      <td>2006-02-15 05:09:17</td>\n",
       "    </tr>\n",
       "    <tr>\n",
       "      <th>2</th>\n",
       "      <td>3</td>\n",
       "      <td>1</td>\n",
       "      <td>1</td>\n",
       "      <td>2006-02-15 05:09:17</td>\n",
       "    </tr>\n",
       "    <tr>\n",
       "      <th>3</th>\n",
       "      <td>4</td>\n",
       "      <td>1</td>\n",
       "      <td>1</td>\n",
       "      <td>2006-02-15 05:09:17</td>\n",
       "    </tr>\n",
       "    <tr>\n",
       "      <th>4</th>\n",
       "      <td>5</td>\n",
       "      <td>1</td>\n",
       "      <td>2</td>\n",
       "      <td>2006-02-15 05:09:17</td>\n",
       "    </tr>\n",
       "    <tr>\n",
       "      <th>...</th>\n",
       "      <td>...</td>\n",
       "      <td>...</td>\n",
       "      <td>...</td>\n",
       "      <td>...</td>\n",
       "    </tr>\n",
       "    <tr>\n",
       "      <th>4576</th>\n",
       "      <td>4577</td>\n",
       "      <td>1000</td>\n",
       "      <td>1</td>\n",
       "      <td>2006-02-15 05:09:17</td>\n",
       "    </tr>\n",
       "    <tr>\n",
       "      <th>4577</th>\n",
       "      <td>4578</td>\n",
       "      <td>1000</td>\n",
       "      <td>2</td>\n",
       "      <td>2006-02-15 05:09:17</td>\n",
       "    </tr>\n",
       "    <tr>\n",
       "      <th>4578</th>\n",
       "      <td>4579</td>\n",
       "      <td>1000</td>\n",
       "      <td>2</td>\n",
       "      <td>2006-02-15 05:09:17</td>\n",
       "    </tr>\n",
       "    <tr>\n",
       "      <th>4579</th>\n",
       "      <td>4580</td>\n",
       "      <td>1000</td>\n",
       "      <td>2</td>\n",
       "      <td>2006-02-15 05:09:17</td>\n",
       "    </tr>\n",
       "    <tr>\n",
       "      <th>4580</th>\n",
       "      <td>4581</td>\n",
       "      <td>1000</td>\n",
       "      <td>2</td>\n",
       "      <td>2006-02-15 05:09:17</td>\n",
       "    </tr>\n",
       "  </tbody>\n",
       "</table>\n",
       "<p>4581 rows × 4 columns</p>\n",
       "</div>"
      ],
      "text/plain": [
       "      inventory_id  film_id  store_id         last_update\n",
       "0                1        1         1 2006-02-15 05:09:17\n",
       "1                2        1         1 2006-02-15 05:09:17\n",
       "2                3        1         1 2006-02-15 05:09:17\n",
       "3                4        1         1 2006-02-15 05:09:17\n",
       "4                5        1         2 2006-02-15 05:09:17\n",
       "...            ...      ...       ...                 ...\n",
       "4576          4577     1000         1 2006-02-15 05:09:17\n",
       "4577          4578     1000         2 2006-02-15 05:09:17\n",
       "4578          4579     1000         2 2006-02-15 05:09:17\n",
       "4579          4580     1000         2 2006-02-15 05:09:17\n",
       "4580          4581     1000         2 2006-02-15 05:09:17\n",
       "\n",
       "[4581 rows x 4 columns]"
      ]
     },
     "execution_count": 62,
     "metadata": {},
     "output_type": "execute_result"
    }
   ],
   "source": [
    "sakila_inventory"
   ]
  },
  {
   "cell_type": "markdown",
   "id": "24ed9764",
   "metadata": {},
   "source": [
    "1. How many copies of the film Hunchback Impossible exist in the inventory system?"
   ]
  },
  {
   "cell_type": "code",
   "execution_count": 84,
   "id": "75604f60",
   "metadata": {},
   "outputs": [],
   "source": [
    "query1 = '''SELECT count(inventory_id), film_id FROM sakila.inventory\n",
    "WHERE film_id = (SELECT film_id from sakila.film\n",
    "WHERE film.title = 'Hunchback Impossible')\n",
    "GROUP BY film_id'''"
   ]
  },
  {
   "cell_type": "code",
   "execution_count": 85,
   "id": "8fccd76f",
   "metadata": {},
   "outputs": [],
   "source": [
    "copies_film_HI = pd.read_sql_query(query1, db_connection)"
   ]
  },
  {
   "cell_type": "code",
   "execution_count": 86,
   "id": "e717550a",
   "metadata": {},
   "outputs": [
    {
     "data": {
      "text/html": [
       "<div>\n",
       "<style scoped>\n",
       "    .dataframe tbody tr th:only-of-type {\n",
       "        vertical-align: middle;\n",
       "    }\n",
       "\n",
       "    .dataframe tbody tr th {\n",
       "        vertical-align: top;\n",
       "    }\n",
       "\n",
       "    .dataframe thead th {\n",
       "        text-align: right;\n",
       "    }\n",
       "</style>\n",
       "<table border=\"1\" class=\"dataframe\">\n",
       "  <thead>\n",
       "    <tr style=\"text-align: right;\">\n",
       "      <th></th>\n",
       "      <th>count(inventory_id)</th>\n",
       "      <th>film_id</th>\n",
       "    </tr>\n",
       "  </thead>\n",
       "  <tbody>\n",
       "    <tr>\n",
       "      <th>0</th>\n",
       "      <td>6</td>\n",
       "      <td>439</td>\n",
       "    </tr>\n",
       "  </tbody>\n",
       "</table>\n",
       "</div>"
      ],
      "text/plain": [
       "   count(inventory_id)  film_id\n",
       "0                    6      439"
      ]
     },
     "execution_count": 86,
     "metadata": {},
     "output_type": "execute_result"
    }
   ],
   "source": [
    "copies_film_HI"
   ]
  },
  {
   "cell_type": "markdown",
   "id": "21f8931e",
   "metadata": {},
   "source": [
    "2. List all films whose length is longer than the average of all the film"
   ]
  },
  {
   "cell_type": "code",
   "execution_count": 88,
   "id": "4c4741ff",
   "metadata": {},
   "outputs": [],
   "source": [
    "query2 = \"SELECT title, length FROM sakila.film WHERE length > (SELECT avg(length) from sakila.film) ORDER BY length desc\""
   ]
  },
  {
   "cell_type": "code",
   "execution_count": 89,
   "id": "deeb0740",
   "metadata": {},
   "outputs": [],
   "source": [
    "query1\n",
    "films_longer_than_average = pd.read_sql_query(query2, db_connection)"
   ]
  },
  {
   "cell_type": "code",
   "execution_count": 90,
   "id": "c663ab1b",
   "metadata": {},
   "outputs": [
    {
     "data": {
      "text/html": [
       "<div>\n",
       "<style scoped>\n",
       "    .dataframe tbody tr th:only-of-type {\n",
       "        vertical-align: middle;\n",
       "    }\n",
       "\n",
       "    .dataframe tbody tr th {\n",
       "        vertical-align: top;\n",
       "    }\n",
       "\n",
       "    .dataframe thead th {\n",
       "        text-align: right;\n",
       "    }\n",
       "</style>\n",
       "<table border=\"1\" class=\"dataframe\">\n",
       "  <thead>\n",
       "    <tr style=\"text-align: right;\">\n",
       "      <th></th>\n",
       "      <th>title</th>\n",
       "      <th>length</th>\n",
       "    </tr>\n",
       "  </thead>\n",
       "  <tbody>\n",
       "    <tr>\n",
       "      <th>0</th>\n",
       "      <td>CHICAGO NORTH</td>\n",
       "      <td>185</td>\n",
       "    </tr>\n",
       "    <tr>\n",
       "      <th>1</th>\n",
       "      <td>CONTROL ANTHEM</td>\n",
       "      <td>185</td>\n",
       "    </tr>\n",
       "    <tr>\n",
       "      <th>2</th>\n",
       "      <td>DARN FORRESTER</td>\n",
       "      <td>185</td>\n",
       "    </tr>\n",
       "    <tr>\n",
       "      <th>3</th>\n",
       "      <td>GANGS PRIDE</td>\n",
       "      <td>185</td>\n",
       "    </tr>\n",
       "    <tr>\n",
       "      <th>4</th>\n",
       "      <td>HOME PITY</td>\n",
       "      <td>185</td>\n",
       "    </tr>\n",
       "    <tr>\n",
       "      <th>...</th>\n",
       "      <td>...</td>\n",
       "      <td>...</td>\n",
       "    </tr>\n",
       "    <tr>\n",
       "      <th>484</th>\n",
       "      <td>RESURRECTION SILVERADO</td>\n",
       "      <td>117</td>\n",
       "    </tr>\n",
       "    <tr>\n",
       "      <th>485</th>\n",
       "      <td>DUCK RACER</td>\n",
       "      <td>116</td>\n",
       "    </tr>\n",
       "    <tr>\n",
       "      <th>486</th>\n",
       "      <td>INSTINCT AIRPORT</td>\n",
       "      <td>116</td>\n",
       "    </tr>\n",
       "    <tr>\n",
       "      <th>487</th>\n",
       "      <td>MADIGAN DORADO</td>\n",
       "      <td>116</td>\n",
       "    </tr>\n",
       "    <tr>\n",
       "      <th>488</th>\n",
       "      <td>WORDS HUNTER</td>\n",
       "      <td>116</td>\n",
       "    </tr>\n",
       "  </tbody>\n",
       "</table>\n",
       "<p>489 rows × 2 columns</p>\n",
       "</div>"
      ],
      "text/plain": [
       "                      title  length\n",
       "0             CHICAGO NORTH     185\n",
       "1            CONTROL ANTHEM     185\n",
       "2            DARN FORRESTER     185\n",
       "3               GANGS PRIDE     185\n",
       "4                 HOME PITY     185\n",
       "..                      ...     ...\n",
       "484  RESURRECTION SILVERADO     117\n",
       "485              DUCK RACER     116\n",
       "486        INSTINCT AIRPORT     116\n",
       "487          MADIGAN DORADO     116\n",
       "488            WORDS HUNTER     116\n",
       "\n",
       "[489 rows x 2 columns]"
      ]
     },
     "execution_count": 90,
     "metadata": {},
     "output_type": "execute_result"
    }
   ],
   "source": [
    "films_longer_than_average"
   ]
  },
  {
   "cell_type": "markdown",
   "id": "34107210",
   "metadata": {},
   "source": [
    "3. Use subqueries to display all actors who appear in the film Alone Trip."
   ]
  },
  {
   "cell_type": "code",
   "execution_count": 103,
   "id": "0ae80757",
   "metadata": {},
   "outputs": [],
   "source": [
    "query3 = '''SELECT first_name, last_name FROM sakila.actor\n",
    "WHERE actor_id IN (SELECT actor_id FROM sakila.film_actor\n",
    "WHERE film_id = (SELECT film_id FROM sakila.film\n",
    "WHERE title = \"Alone Trip\"))'''"
   ]
  },
  {
   "cell_type": "code",
   "execution_count": 104,
   "id": "413f4024",
   "metadata": {},
   "outputs": [],
   "source": [
    "actors_AT = pd.read_sql_query(query3, db_connection)"
   ]
  },
  {
   "cell_type": "code",
   "execution_count": 105,
   "id": "5e5fe2b7",
   "metadata": {},
   "outputs": [
    {
     "data": {
      "text/html": [
       "<div>\n",
       "<style scoped>\n",
       "    .dataframe tbody tr th:only-of-type {\n",
       "        vertical-align: middle;\n",
       "    }\n",
       "\n",
       "    .dataframe tbody tr th {\n",
       "        vertical-align: top;\n",
       "    }\n",
       "\n",
       "    .dataframe thead th {\n",
       "        text-align: right;\n",
       "    }\n",
       "</style>\n",
       "<table border=\"1\" class=\"dataframe\">\n",
       "  <thead>\n",
       "    <tr style=\"text-align: right;\">\n",
       "      <th></th>\n",
       "      <th>first_name</th>\n",
       "      <th>last_name</th>\n",
       "    </tr>\n",
       "  </thead>\n",
       "  <tbody>\n",
       "    <tr>\n",
       "      <th>0</th>\n",
       "      <td>ED</td>\n",
       "      <td>CHASE</td>\n",
       "    </tr>\n",
       "    <tr>\n",
       "      <th>1</th>\n",
       "      <td>KARL</td>\n",
       "      <td>BERRY</td>\n",
       "    </tr>\n",
       "    <tr>\n",
       "      <th>2</th>\n",
       "      <td>UMA</td>\n",
       "      <td>WOOD</td>\n",
       "    </tr>\n",
       "    <tr>\n",
       "      <th>3</th>\n",
       "      <td>WOODY</td>\n",
       "      <td>JOLIE</td>\n",
       "    </tr>\n",
       "    <tr>\n",
       "      <th>4</th>\n",
       "      <td>SPENCER</td>\n",
       "      <td>DEPP</td>\n",
       "    </tr>\n",
       "    <tr>\n",
       "      <th>5</th>\n",
       "      <td>CHRIS</td>\n",
       "      <td>DEPP</td>\n",
       "    </tr>\n",
       "    <tr>\n",
       "      <th>6</th>\n",
       "      <td>LAURENCE</td>\n",
       "      <td>BULLOCK</td>\n",
       "    </tr>\n",
       "    <tr>\n",
       "      <th>7</th>\n",
       "      <td>RENEE</td>\n",
       "      <td>BALL</td>\n",
       "    </tr>\n",
       "  </tbody>\n",
       "</table>\n",
       "</div>"
      ],
      "text/plain": [
       "  first_name last_name\n",
       "0         ED     CHASE\n",
       "1       KARL     BERRY\n",
       "2        UMA      WOOD\n",
       "3      WOODY     JOLIE\n",
       "4    SPENCER      DEPP\n",
       "5      CHRIS      DEPP\n",
       "6   LAURENCE   BULLOCK\n",
       "7      RENEE      BALL"
      ]
     },
     "execution_count": 105,
     "metadata": {},
     "output_type": "execute_result"
    }
   ],
   "source": [
    "actors_AT"
   ]
  },
  {
   "cell_type": "markdown",
   "id": "a0188fdc",
   "metadata": {},
   "source": [
    "4. Sales have been lagging among young families, and you wih to target all family movies for a promotion. Identify all movies categorized as family films."
   ]
  },
  {
   "cell_type": "code",
   "execution_count": 107,
   "id": "34647d59",
   "metadata": {},
   "outputs": [],
   "source": [
    "query4 = '''SELECT title, film_id from sakila.film\n",
    "WHERE film_id in (SELECT film_id FROM sakila.film_category\n",
    "WHERE category_id in (SELECT category_id FROM sakila.category\n",
    "WHERE name = \"Family\"))'''"
   ]
  },
  {
   "cell_type": "code",
   "execution_count": 109,
   "id": "af5a0aa9",
   "metadata": {},
   "outputs": [],
   "source": [
    "family_films = pd.read_sql_query(query4, db_connection)"
   ]
  },
  {
   "cell_type": "code",
   "execution_count": 110,
   "id": "0170ca54",
   "metadata": {},
   "outputs": [
    {
     "data": {
      "text/html": [
       "<div>\n",
       "<style scoped>\n",
       "    .dataframe tbody tr th:only-of-type {\n",
       "        vertical-align: middle;\n",
       "    }\n",
       "\n",
       "    .dataframe tbody tr th {\n",
       "        vertical-align: top;\n",
       "    }\n",
       "\n",
       "    .dataframe thead th {\n",
       "        text-align: right;\n",
       "    }\n",
       "</style>\n",
       "<table border=\"1\" class=\"dataframe\">\n",
       "  <thead>\n",
       "    <tr style=\"text-align: right;\">\n",
       "      <th></th>\n",
       "      <th>title</th>\n",
       "      <th>film_id</th>\n",
       "    </tr>\n",
       "  </thead>\n",
       "  <tbody>\n",
       "    <tr>\n",
       "      <th>0</th>\n",
       "      <td>AFRICAN EGG</td>\n",
       "      <td>5</td>\n",
       "    </tr>\n",
       "    <tr>\n",
       "      <th>1</th>\n",
       "      <td>APACHE DIVINE</td>\n",
       "      <td>31</td>\n",
       "    </tr>\n",
       "    <tr>\n",
       "      <th>2</th>\n",
       "      <td>ATLANTIS CAUSE</td>\n",
       "      <td>43</td>\n",
       "    </tr>\n",
       "    <tr>\n",
       "      <th>3</th>\n",
       "      <td>BAKED CLEOPATRA</td>\n",
       "      <td>50</td>\n",
       "    </tr>\n",
       "    <tr>\n",
       "      <th>4</th>\n",
       "      <td>BANG KWAI</td>\n",
       "      <td>53</td>\n",
       "    </tr>\n",
       "    <tr>\n",
       "      <th>...</th>\n",
       "      <td>...</td>\n",
       "      <td>...</td>\n",
       "    </tr>\n",
       "    <tr>\n",
       "      <th>64</th>\n",
       "      <td>SPLASH GUMP</td>\n",
       "      <td>832</td>\n",
       "    </tr>\n",
       "    <tr>\n",
       "      <th>65</th>\n",
       "      <td>SUNSET RACER</td>\n",
       "      <td>866</td>\n",
       "    </tr>\n",
       "    <tr>\n",
       "      <th>66</th>\n",
       "      <td>SUPER WYOMING</td>\n",
       "      <td>867</td>\n",
       "    </tr>\n",
       "    <tr>\n",
       "      <th>67</th>\n",
       "      <td>VIRTUAL SPOILERS</td>\n",
       "      <td>946</td>\n",
       "    </tr>\n",
       "    <tr>\n",
       "      <th>68</th>\n",
       "      <td>WILLOW TRACY</td>\n",
       "      <td>975</td>\n",
       "    </tr>\n",
       "  </tbody>\n",
       "</table>\n",
       "<p>69 rows × 2 columns</p>\n",
       "</div>"
      ],
      "text/plain": [
       "               title  film_id\n",
       "0        AFRICAN EGG        5\n",
       "1      APACHE DIVINE       31\n",
       "2     ATLANTIS CAUSE       43\n",
       "3    BAKED CLEOPATRA       50\n",
       "4          BANG KWAI       53\n",
       "..               ...      ...\n",
       "64       SPLASH GUMP      832\n",
       "65      SUNSET RACER      866\n",
       "66     SUPER WYOMING      867\n",
       "67  VIRTUAL SPOILERS      946\n",
       "68      WILLOW TRACY      975\n",
       "\n",
       "[69 rows x 2 columns]"
      ]
     },
     "execution_count": 110,
     "metadata": {},
     "output_type": "execute_result"
    }
   ],
   "source": [
    "family_films"
   ]
  },
  {
   "cell_type": "markdown",
   "id": "6286dbc3",
   "metadata": {},
   "source": [
    "5. Get name and email from customers from Canada using subqueries. Do the same with joins. \n",
    "Note that to create a join, you will have to identify the correct tables\n",
    "with their primary keys and foreign keys, that will help you get the relevant information."
   ]
  },
  {
   "cell_type": "code",
   "execution_count": 121,
   "id": "7fe5c1be",
   "metadata": {},
   "outputs": [],
   "source": [
    "query5 = '''SELECT first_name, last_name, email FROM sakila.customer\n",
    "WHERE address_id in (SELECT address_id FROM sakila.address\n",
    "WHERE city_id in (SELECT city_id FROM sakila.city\n",
    "WHERE country_id in (SELECT country_id FROM sakila.country\n",
    "WHERE country = \"Canada\")))'''"
   ]
  },
  {
   "cell_type": "code",
   "execution_count": 122,
   "id": "f98f65c3",
   "metadata": {},
   "outputs": [],
   "source": [
    "canada_customers = pd.read_sql_query(query5, db_connection)"
   ]
  },
  {
   "cell_type": "code",
   "execution_count": 123,
   "id": "4761a8e7",
   "metadata": {},
   "outputs": [
    {
     "data": {
      "text/html": [
       "<div>\n",
       "<style scoped>\n",
       "    .dataframe tbody tr th:only-of-type {\n",
       "        vertical-align: middle;\n",
       "    }\n",
       "\n",
       "    .dataframe tbody tr th {\n",
       "        vertical-align: top;\n",
       "    }\n",
       "\n",
       "    .dataframe thead th {\n",
       "        text-align: right;\n",
       "    }\n",
       "</style>\n",
       "<table border=\"1\" class=\"dataframe\">\n",
       "  <thead>\n",
       "    <tr style=\"text-align: right;\">\n",
       "      <th></th>\n",
       "      <th>first_name</th>\n",
       "      <th>last_name</th>\n",
       "      <th>email</th>\n",
       "    </tr>\n",
       "  </thead>\n",
       "  <tbody>\n",
       "    <tr>\n",
       "      <th>0</th>\n",
       "      <td>DERRICK</td>\n",
       "      <td>BOURQUE</td>\n",
       "      <td>DERRICK.BOURQUE@sakilacustomer.org</td>\n",
       "    </tr>\n",
       "    <tr>\n",
       "      <th>1</th>\n",
       "      <td>DARRELL</td>\n",
       "      <td>POWER</td>\n",
       "      <td>DARRELL.POWER@sakilacustomer.org</td>\n",
       "    </tr>\n",
       "    <tr>\n",
       "      <th>2</th>\n",
       "      <td>LORETTA</td>\n",
       "      <td>CARPENTER</td>\n",
       "      <td>LORETTA.CARPENTER@sakilacustomer.org</td>\n",
       "    </tr>\n",
       "    <tr>\n",
       "      <th>3</th>\n",
       "      <td>CURTIS</td>\n",
       "      <td>IRBY</td>\n",
       "      <td>CURTIS.IRBY@sakilacustomer.org</td>\n",
       "    </tr>\n",
       "    <tr>\n",
       "      <th>4</th>\n",
       "      <td>TROY</td>\n",
       "      <td>QUIGLEY</td>\n",
       "      <td>TROY.QUIGLEY@sakilacustomer.org</td>\n",
       "    </tr>\n",
       "  </tbody>\n",
       "</table>\n",
       "</div>"
      ],
      "text/plain": [
       "  first_name  last_name                                 email\n",
       "0    DERRICK    BOURQUE    DERRICK.BOURQUE@sakilacustomer.org\n",
       "1    DARRELL      POWER      DARRELL.POWER@sakilacustomer.org\n",
       "2    LORETTA  CARPENTER  LORETTA.CARPENTER@sakilacustomer.org\n",
       "3     CURTIS       IRBY        CURTIS.IRBY@sakilacustomer.org\n",
       "4       TROY    QUIGLEY       TROY.QUIGLEY@sakilacustomer.org"
      ]
     },
     "execution_count": 123,
     "metadata": {},
     "output_type": "execute_result"
    }
   ],
   "source": [
    "canada_customers"
   ]
  },
  {
   "cell_type": "markdown",
   "id": "ac4b6f5d",
   "metadata": {},
   "source": [
    "INNER JOIN:"
   ]
  },
  {
   "cell_type": "code",
   "execution_count": 126,
   "id": "a755ade4",
   "metadata": {},
   "outputs": [],
   "source": [
    "query6 = '''SELECT first_name, last_name, email FROM sakila.customer\n",
    "INNER JOIN sakila.address\n",
    "USING (address_id)\n",
    "INNER JOIN sakila.city\n",
    "USING (city_id)\n",
    "INNER JOIN sakila.country\n",
    "USING (country_id)\n",
    "WHERE country = \"Canada\"'''"
   ]
  },
  {
   "cell_type": "code",
   "execution_count": 127,
   "id": "32ef5d1d",
   "metadata": {},
   "outputs": [],
   "source": [
    "canada_customers_i = pd.read_sql_query(query6, db_connection)"
   ]
  },
  {
   "cell_type": "code",
   "execution_count": 128,
   "id": "893e72fc",
   "metadata": {},
   "outputs": [
    {
     "data": {
      "text/html": [
       "<div>\n",
       "<style scoped>\n",
       "    .dataframe tbody tr th:only-of-type {\n",
       "        vertical-align: middle;\n",
       "    }\n",
       "\n",
       "    .dataframe tbody tr th {\n",
       "        vertical-align: top;\n",
       "    }\n",
       "\n",
       "    .dataframe thead th {\n",
       "        text-align: right;\n",
       "    }\n",
       "</style>\n",
       "<table border=\"1\" class=\"dataframe\">\n",
       "  <thead>\n",
       "    <tr style=\"text-align: right;\">\n",
       "      <th></th>\n",
       "      <th>first_name</th>\n",
       "      <th>last_name</th>\n",
       "      <th>email</th>\n",
       "    </tr>\n",
       "  </thead>\n",
       "  <tbody>\n",
       "    <tr>\n",
       "      <th>0</th>\n",
       "      <td>DERRICK</td>\n",
       "      <td>BOURQUE</td>\n",
       "      <td>DERRICK.BOURQUE@sakilacustomer.org</td>\n",
       "    </tr>\n",
       "    <tr>\n",
       "      <th>1</th>\n",
       "      <td>DARRELL</td>\n",
       "      <td>POWER</td>\n",
       "      <td>DARRELL.POWER@sakilacustomer.org</td>\n",
       "    </tr>\n",
       "    <tr>\n",
       "      <th>2</th>\n",
       "      <td>LORETTA</td>\n",
       "      <td>CARPENTER</td>\n",
       "      <td>LORETTA.CARPENTER@sakilacustomer.org</td>\n",
       "    </tr>\n",
       "    <tr>\n",
       "      <th>3</th>\n",
       "      <td>CURTIS</td>\n",
       "      <td>IRBY</td>\n",
       "      <td>CURTIS.IRBY@sakilacustomer.org</td>\n",
       "    </tr>\n",
       "    <tr>\n",
       "      <th>4</th>\n",
       "      <td>TROY</td>\n",
       "      <td>QUIGLEY</td>\n",
       "      <td>TROY.QUIGLEY@sakilacustomer.org</td>\n",
       "    </tr>\n",
       "  </tbody>\n",
       "</table>\n",
       "</div>"
      ],
      "text/plain": [
       "  first_name  last_name                                 email\n",
       "0    DERRICK    BOURQUE    DERRICK.BOURQUE@sakilacustomer.org\n",
       "1    DARRELL      POWER      DARRELL.POWER@sakilacustomer.org\n",
       "2    LORETTA  CARPENTER  LORETTA.CARPENTER@sakilacustomer.org\n",
       "3     CURTIS       IRBY        CURTIS.IRBY@sakilacustomer.org\n",
       "4       TROY    QUIGLEY       TROY.QUIGLEY@sakilacustomer.org"
      ]
     },
     "execution_count": 128,
     "metadata": {},
     "output_type": "execute_result"
    }
   ],
   "source": [
    "canada_customers_i"
   ]
  },
  {
   "cell_type": "code",
   "execution_count": null,
   "id": "409d1e16",
   "metadata": {},
   "outputs": [],
   "source": []
  }
 ],
 "metadata": {
  "kernelspec": {
   "display_name": "Python 3 (ipykernel)",
   "language": "python",
   "name": "python3"
  },
  "language_info": {
   "codemirror_mode": {
    "name": "ipython",
    "version": 3
   },
   "file_extension": ".py",
   "mimetype": "text/x-python",
   "name": "python",
   "nbconvert_exporter": "python",
   "pygments_lexer": "ipython3",
   "version": "3.9.7"
  }
 },
 "nbformat": 4,
 "nbformat_minor": 5
}
