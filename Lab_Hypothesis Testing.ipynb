{
 "cells": [
  {
   "cell_type": "markdown",
   "id": "f4938af3",
   "metadata": {},
   "source": [
    "# Lab_Hypothesis Testing"
   ]
  },
  {
   "cell_type": "markdown",
   "id": "df0dad93",
   "metadata": {},
   "source": [
    "#### Instructions\n",
    "\n",
    "1.It is assumed that the mean systolic blood pressure is μ = 120 mm Hg. In the Honolulu Heart Study, a sample of n = 100 people had an average systolic blood pressure of 130.1 mm Hg with a standard deviation of 21.21 mm Hg. Is the group significantly different (with respect to systolic blood pressure!) from the regular population?\n",
    "\n",
    "Set up the hypothesis test.\n",
    "Write down all the steps followed for setting up the test.\n",
    "Calculate the test statistic by hand and also code it in Python. It should be 4.76190. What decision can you make based on this calculated value?"
   ]
  },
  {
   "cell_type": "markdown",
   "id": "58749f6c",
   "metadata": {},
   "source": [
    "#### Answer\n",
    "\n",
    "The null Hypothesis H0: μ = 120 mm Hg\n",
    "The alternative Hypothesis: μ ≠  120 mm Hg\n",
    "\n",
    "We don't have the standard deviation from the population, so we do a t-student test.\n",
    "We have a sample of 100 subjects.\n",
    "Because we are looking for values that are less or higher than 120 mm Hg, we do a two tail test.\n",
    "\n",
    "The critical value for a two tail test with 95% confidence interval and a degree of freedom with 99 is 1.984.\n",
    "tc = 1.984\n",
    "\n",
    "Calculation by hand:\n",
    "test statistics = (mean of the sample - mean of the population)/(standard deviation of the sample/√size of the sample)\n",
    "ts = (130.1-120)/ (21.21/√100) = 4,76190476\n",
    "\n",
    "Now, tc = 1.984 < 4,7619 = t.\n",
    "\n",
    "That means the value 4,7619 falls into the rejection region.\n",
    "\n",
    "We reject the null hypothesis that the mean of the population is 120 mm Hg, because the sample we looked at has a\n",
    "value outside of the confidence interval.\n",
    "So, we accept the alternative Hypothesis."
   ]
  },
  {
   "cell_type": "markdown",
   "id": "ea1f384b",
   "metadata": {},
   "source": [
    "#### Calucaltion with Python code"
   ]
  },
  {
   "cell_type": "markdown",
   "id": "05e64d14",
   "metadata": {},
   "source": [
    "Critical value to the 0.95 confidence interval of a t-student distribution"
   ]
  },
  {
   "cell_type": "code",
   "execution_count": 4,
   "id": "0bb03a61",
   "metadata": {},
   "outputs": [],
   "source": [
    "import scipy.stats as stats\n",
    "import math\n",
    "import matplotlib.pyplot as plt\n",
    "import numpy as np"
   ]
  },
  {
   "cell_type": "code",
   "execution_count": 18,
   "id": "4e552b34",
   "metadata": {},
   "outputs": [],
   "source": [
    "tc = stats.t.ppf(1-(0.05/2), df=99)"
   ]
  },
  {
   "cell_type": "code",
   "execution_count": 17,
   "id": "ce2e48ca",
   "metadata": {},
   "outputs": [
    {
     "data": {
      "text/plain": [
       "1.9842169515086827"
      ]
     },
     "execution_count": 17,
     "metadata": {},
     "output_type": "execute_result"
    }
   ],
   "source": [
    "tc"
   ]
  },
  {
   "cell_type": "markdown",
   "id": "c7d4b590",
   "metadata": {},
   "source": [
    "test statistics "
   ]
  },
  {
   "cell_type": "code",
   "execution_count": 23,
   "id": "31c3ea2d",
   "metadata": {},
   "outputs": [
    {
     "data": {
      "text/plain": [
       "4.761904761904759"
      ]
     },
     "execution_count": 23,
     "metadata": {},
     "output_type": "execute_result"
    }
   ],
   "source": [
    "(130.1-120)/(21.21/math.sqrt(100))"
   ]
  },
  {
   "cell_type": "markdown",
   "id": "fc37682d",
   "metadata": {},
   "source": [
    "On Friday\n"
   ]
  },
  {
   "cell_type": "markdown",
   "id": "9a580a8e",
   "metadata": {},
   "source": [
    "In a packing plant, a machine packs cartons with jars. It is supposed that a new machine will pack faster on the average than the machine currently used. To test that hypothesis, the times it takes each machine to pack ten cartons are recorded. The results, in seconds, are shown in the tables in the file Data/machine.txt. Assume that there is sufficient evidence to conduct the t test, does the data provide sufficient evidence to show if one machine is better than the other"
   ]
  },
  {
   "cell_type": "markdown",
   "id": "48a9bf56",
   "metadata": {},
   "source": [
    "H0: new_machine_mean_speed > old_machine_mean_speed\n",
    "H1: new_machine_mean_speed <= old_machine_mean_speed"
   ]
  },
  {
   "cell_type": "code",
   "execution_count": 37,
   "id": "69dd1217",
   "metadata": {},
   "outputs": [],
   "source": [
    "nm_sam = [42.1, 41, 41.3, 41.8, 42.4, 42.8, 43.2, 42.3, 41.8, 42.7]"
   ]
  },
  {
   "cell_type": "code",
   "execution_count": 38,
   "id": "9492bee5",
   "metadata": {},
   "outputs": [],
   "source": [
    "om_sam = [42.7, 43.6, 43.8, 43.3, 42.5, 43.5, 43.1, 41.7, 44, 44.1]"
   ]
  },
  {
   "cell_type": "markdown",
   "id": "b997f0ef",
   "metadata": {},
   "source": [
    "Calculating the mean of the samples"
   ]
  },
  {
   "cell_type": "code",
   "execution_count": 39,
   "id": "dd30699e",
   "metadata": {},
   "outputs": [],
   "source": [
    "mean_nm_sam = np.mean(nm_sam)"
   ]
  },
  {
   "cell_type": "code",
   "execution_count": 40,
   "id": "5dd1755c",
   "metadata": {},
   "outputs": [
    {
     "data": {
      "text/plain": [
       "42.14"
      ]
     },
     "execution_count": 40,
     "metadata": {},
     "output_type": "execute_result"
    }
   ],
   "source": [
    "mean_nm_sam"
   ]
  },
  {
   "cell_type": "code",
   "execution_count": 41,
   "id": "b1248557",
   "metadata": {},
   "outputs": [],
   "source": [
    "mean_om_sam = np.mean(om_sam)"
   ]
  },
  {
   "cell_type": "code",
   "execution_count": 42,
   "id": "20c19061",
   "metadata": {},
   "outputs": [
    {
     "data": {
      "text/plain": [
       "43.230000000000004"
      ]
     },
     "execution_count": 42,
     "metadata": {},
     "output_type": "execute_result"
    }
   ],
   "source": [
    "mean_om_sam"
   ]
  },
  {
   "cell_type": "markdown",
   "id": "3c828822",
   "metadata": {},
   "source": [
    "Calculating the standard deviation of the samples"
   ]
  },
  {
   "cell_type": "code",
   "execution_count": 43,
   "id": "d42eb779",
   "metadata": {},
   "outputs": [],
   "source": [
    "std_nm_sam = np.std(nm_sam)"
   ]
  },
  {
   "cell_type": "code",
   "execution_count": 44,
   "id": "698caaf1",
   "metadata": {},
   "outputs": [
    {
     "data": {
      "text/plain": [
       "0.6483826030978941"
      ]
     },
     "execution_count": 44,
     "metadata": {},
     "output_type": "execute_result"
    }
   ],
   "source": [
    "std_nm_sam"
   ]
  },
  {
   "cell_type": "code",
   "execution_count": 45,
   "id": "34b01f8c",
   "metadata": {},
   "outputs": [],
   "source": [
    "std_om_sam = np.std(om_sam)"
   ]
  },
  {
   "cell_type": "code",
   "execution_count": 46,
   "id": "0d424bf2",
   "metadata": {},
   "outputs": [
    {
     "data": {
      "text/plain": [
       "0.7114070564732956"
      ]
     },
     "execution_count": 46,
     "metadata": {},
     "output_type": "execute_result"
    }
   ],
   "source": [
    "std_om_sam"
   ]
  },
  {
   "cell_type": "markdown",
   "id": "0ab76269",
   "metadata": {},
   "source": [
    "Computing the statistic"
   ]
  },
  {
   "cell_type": "code",
   "execution_count": 47,
   "id": "044bb239",
   "metadata": {},
   "outputs": [],
   "source": [
    "t = (mean_nm_sam - mean_om_sam)/ np.sqrt(((std_nm_sam**2)/10)+((std_om_sam**2)/10))"
   ]
  },
  {
   "cell_type": "code",
   "execution_count": 48,
   "id": "371fb322",
   "metadata": {},
   "outputs": [
    {
     "data": {
      "text/plain": [
       "-3.5809955894645813"
      ]
     },
     "execution_count": 48,
     "metadata": {},
     "output_type": "execute_result"
    }
   ],
   "source": [
    "t"
   ]
  },
  {
   "cell_type": "markdown",
   "id": "e3215e75",
   "metadata": {},
   "source": [
    "Computing the critical value"
   ]
  },
  {
   "cell_type": "code",
   "execution_count": 49,
   "id": "334a61a1",
   "metadata": {},
   "outputs": [],
   "source": [
    "tc = stats.t.ppf(1-0.05, df=9)"
   ]
  },
  {
   "cell_type": "code",
   "execution_count": 50,
   "id": "26d598e5",
   "metadata": {},
   "outputs": [
    {
     "data": {
      "text/plain": [
       "1.8331129326536335"
      ]
     },
     "execution_count": 50,
     "metadata": {},
     "output_type": "execute_result"
    }
   ],
   "source": [
    "tc"
   ]
  },
  {
   "cell_type": "markdown",
   "id": "90e06ffa",
   "metadata": {},
   "source": [
    "Function for plotting the distribution"
   ]
  },
  {
   "cell_type": "code",
   "execution_count": 51,
   "id": "54f544bd",
   "metadata": {},
   "outputs": [],
   "source": [
    "def visual_test(statistic, critical, dist = 'Norm', df = 0):\n",
    "\n",
    "    mu = 0\n",
    "    sigma = 1\n",
    "\n",
    "    x = np.linspace(mu - 4*sigma, mu + 4*sigma, 100)\n",
    "    x0 = np.linspace(mu - 4*sigma, mu + 4*sigma, 100)\n",
    "\n",
    "    if ( dist == 'Norm' ):\n",
    "        plt.plot(x, stats.norm.pdf(x, mu, sigma))\n",
    "        plt.fill_between(x0,stats.norm.pdf(x, mu, sigma),where = (x < -critical),facecolor='red')\n",
    "        plt.fill_between(x0,stats.norm.pdf(x, mu, sigma),where = (x > critical),facecolor='red')\n",
    "    else:\n",
    "        if ( df == 0 ):\n",
    "            while ( df == 0 or type(df) != int):\n",
    "                try:\n",
    "                    df = int(input(\"Set the correct value of degrees of freedom please: \" )) \n",
    "                except:\n",
    "                    df = 0       \n",
    "        plt.plot(x, stats.t.pdf(x,df))\n",
    "        plt.fill_between(x0,stats.t.pdf(x,df),where = (x < -critical),facecolor='red')\n",
    "        plt.fill_between(x0,stats.t.pdf(x,df),where = (x > critical),facecolor='red')\n",
    "\n",
    "    plt.axvline(-critical, c = 'r')\n",
    "    plt.axvline(critical, c = 'r')\n",
    "    plt.axvline(-statistic,c='b')\n",
    "    plt.axvline(statistic,c='b')\n",
    "\n",
    "    plt.show()"
   ]
  },
  {
   "cell_type": "code",
   "execution_count": 52,
   "id": "e1837c33",
   "metadata": {},
   "outputs": [
    {
     "data": {
      "image/png": "[encoded data removed]",
      "text/plain": [
       "<Figure size 432x288 with 1 Axes>"
      ]
     },
     "metadata": {
      "needs_background": "light"
     },
     "output_type": "display_data"
    }
   ],
   "source": [
    "visual_test(t,tc,dist = 't', df=9)"
   ]
  },
  {
   "cell_type": "markdown",
   "id": "93df30d0",
   "metadata": {},
   "source": [
    "The value is in the rejection zone. So we reject the hypothesis that the new machine is better than the old one and accept the alternative hypothesis."
   ]
  }
 ],
 "metadata": {
  "kernelspec": {
   "display_name": "Python 3 (ipykernel)",
   "language": "python",
   "name": "python3"
  },
  "language_info": {
   "codemirror_mode": {
    "name": "ipython",
    "version": 3
   },
   "file_extension": ".py",
   "mimetype": "text/x-python",
   "name": "python",
   "nbconvert_exporter": "python",
   "pygments_lexer": "ipython3",
   "version": "3.9.7"
  }
 },
 "nbformat": 4,
 "nbformat_minor": 5
}
