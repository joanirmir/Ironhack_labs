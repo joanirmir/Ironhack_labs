{
 "cells": [
  {
   "cell_type": "markdown",
   "id": "e80ea718",
   "metadata": {},
   "source": [
    "# Lab_Hypothesis Testing"
   ]
  },
  {
   "cell_type": "markdown",
   "id": "7996272a",
   "metadata": {},
   "source": [
    "#### Instructions\n",
    "\n",
    "1.It is assumed that the mean systolic blood pressure is μ = 120 mm Hg. In the Honolulu Heart Study, a sample of n = 100 people had an average systolic blood pressure of 130.1 mm Hg with a standard deviation of 21.21 mm Hg. Is the group significantly different (with respect to systolic blood pressure!) from the regular population?\n",
    "\n",
    "Set up the hypothesis test.\n",
    "Write down all the steps followed for setting up the test.\n",
    "Calculate the test statistic by hand and also code it in Python. It should be 4.76190. What decision can you make based on this calculated value?"
   ]
  },
  {
   "cell_type": "markdown",
   "id": "fb7a4f79",
   "metadata": {},
   "source": [
    "#### Answer\n",
    "\n",
    "The null Hypothesis H0: μ = 120 mm Hg\n",
    "The alternative Hypothesis: μ ≠  120 mm Hg\n",
    "\n",
    "We don't have the standard deviation from the population, so we do a t-student test.\n",
    "We have a sample of 100 subjects.\n",
    "Because we are looking for values that are less or higher than 120 mm Hg, we do a two tail test.\n",
    "\n",
    "The critical value for a two tail test with 95% confidence interval and a degree of freedom with 99 is 1.984.\n",
    "tc = 1.984\n",
    "\n",
    "Calculation by hand:\n",
    "test statistics = (mean of the sample - mean of the population)/(standard deviation of the sample/√size of the sample)\n",
    "ts = (130.1-120)/ (21.21/√100) = 4,76190476\n",
    "\n",
    "Now, tc = 1.984 < 4,7619 = t.\n",
    "\n",
    "That means the value 4,7619 falls into the rejection region.\n",
    "\n",
    "We reject the null hypothesis that the mean of the population is 120 mm Hg, because the sample we looked at has a\n",
    "value outside of the confidence interval.\n",
    "So, we accept the alternative Hypothesis."
   ]
  },
  {
   "cell_type": "markdown",
   "id": "29f32f3a",
   "metadata": {},
   "source": [
    "#### Calucaltion with Python code"
   ]
  },
  {
   "cell_type": "markdown",
   "id": "ee75cda9",
   "metadata": {},
   "source": [
    "Critical value to the 0.95 confidence interval of a t-student distribution"
   ]
  },
  {
   "cell_type": "code",
   "execution_count": 22,
   "id": "3276668d",
   "metadata": {},
   "outputs": [],
   "source": [
    "import scipy.stats as stats\n",
    "import math"
   ]
  },
  {
   "cell_type": "code",
   "execution_count": 18,
   "id": "3b609b12",
   "metadata": {},
   "outputs": [],
   "source": [
    "tc = stats.t.ppf(1-(0.05/2), df=99)"
   ]
  },
  {
   "cell_type": "code",
   "execution_count": 17,
   "id": "1daae67a",
   "metadata": {},
   "outputs": [
    {
     "data": {
      "text/plain": [
       "1.9842169515086827"
      ]
     },
     "execution_count": 17,
     "metadata": {},
     "output_type": "execute_result"
    }
   ],
   "source": [
    "tc"
   ]
  },
  {
   "cell_type": "markdown",
   "id": "8917e5e2",
   "metadata": {},
   "source": [
    "test statistics "
   ]
  },
  {
   "cell_type": "code",
   "execution_count": 23,
   "id": "52c395b8",
   "metadata": {},
   "outputs": [
    {
     "data": {
      "text/plain": [
       "4.761904761904759"
      ]
     },
     "execution_count": 23,
     "metadata": {},
     "output_type": "execute_result"
    }
   ],
   "source": [
    "(130.1-120)/(21.21/math.sqrt(100))"
   ]
  }
 ],
 "metadata": {
  "kernelspec": {
   "display_name": "Python 3 (ipykernel)",
   "language": "python",
   "name": "python3"
  },
  "language_info": {
   "codemirror_mode": {
    "name": "ipython",
    "version": 3
   },
   "file_extension": ".py",
   "mimetype": "text/x-python",
   "name": "python",
   "nbconvert_exporter": "python",
   "pygments_lexer": "ipython3",
   "version": "3.9.7"
  }
 },
 "nbformat": 4,
 "nbformat_minor": 5
}
